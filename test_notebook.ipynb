{
 "metadata": {
  "name": ""
 },
 "nbformat": 3,
 "nbformat_minor": 0,
 "worksheets": [
  {
   "cells": [
    {
     "cell_type": "code",
     "collapsed": false,
     "input": [
      "print 'new test cell'"
     ],
     "language": "python",
     "metadata": {},
     "outputs": [
      {
       "output_type": "stream",
       "stream": "stdout",
       "text": [
        "new test cell\n"
       ]
      }
     ],
     "prompt_number": 1
    },
    {
     "cell_type": "raw",
     "metadata": {},
     "source": [
      "This is a Pyxis recipe for JVLA 3C147 calibration.\n",
      "Note that all Pyxis recipes and configurations from your current directory (pyxis-*.{py,conf}) are \n",
      "loaded automatically when you import Pyxis in Python, or when you run the pyxis command-line tool."
     ]
    },
    {
     "cell_type": "code",
     "collapsed": false,
     "input": [
      "import Pyxis"
     ],
     "language": "python",
     "metadata": {},
     "outputs": [
      {
       "output_type": "stream",
       "stream": "stdout",
       "text": [
        "2014/02/04 17:04:20 PYXIS: VERBOSE=1 by default\n",
        "2014/02/04 17:04:20 PYXIS: ===[ Pyxis: Python eXtensions for Inteferometry Scripting (C) 2013 by Oleg Smirnov <oms@ska.ac.za> ]===\n",
        "2014/02/04 17:04:20 PYXIS: loading Pyxis into context '__main__'\n",
        "2014/02/04 17:04:20 PYXIS: auto-loading config files and scripts from 'pyxis*.{py,conf}'. Preset PYXIS_LOAD_CONFIG=False to disable.\n",
        "2014/02/04 17:04:20 PYXIS: loading pyxis-conf.py\n",
        "2014/02/04 17:04:20 PYXIS: registered module 'mqt'\n",
        "2014/02/04 17:04:21 PYXIS: registered module 'std'"
       ]
      },
      {
       "output_type": "stream",
       "stream": "stdout",
       "text": [
        "\n",
        "2014/02/04 17:04:21 PYXIS: registered module 'ms'\n",
        "2014/02/04 17:04:21 PYXIS: registered module 'imager'"
       ]
      },
      {
       "output_type": "stream",
       "stream": "stdout",
       "text": [
        "\n",
        "2014/02/04 17:04:21 PYXIS: registered module 'lsm'\n",
        "2014/02/04 17:04:21 PYXIS: registered module 'stefcal'\n",
        "2014/02/04 17:04:21 PYXIS: loading pyxis-RP3C147.conf\n",
        "2014/02/04 17:04:21 PYXIS: importing top-level modules (std, lsm, stefcal, mqt, ms, imager) for you. Preset PYXIS_AUTO_IMPORT_MODULES=False to disable.\n"
       ]
      },
      {
       "output_type": "stream",
       "stream": "stderr",
       "text": [
        "/usr/lib/python2.7/dist-packages/pyrap.images-0.1.1-py2.7-linux-x86_64.egg/pyrap/__init__.py:3: UserWarning: Module dap was already imported from None, but /usr/lib/python2.7/dist-packages is being added to sys.path\n",
        "  __import__('pkg_resources').declare_namespace(__name__)\n"
       ]
      }
     ],
     "prompt_number": 2
    },
    {
     "cell_type": "raw",
     "metadata": {},
     "source": [
      "Pyxides contains application-specific modules.\n",
      "In this case load the calibration module, and the imager.\n",
      "Note that Pyxides is implicitly added to the include path, so no need to specify it at import"
     ]
    },
    {
     "cell_type": "code",
     "collapsed": false,
     "input": [
      "import mqt,stefcal,imager,lsm,std,ms\n",
      "import pyfits\n",
      "import numpy"
     ],
     "language": "python",
     "metadata": {},
     "outputs": [],
     "prompt_number": 3
    },
    {
     "cell_type": "code",
     "collapsed": false,
     "input": [
      "# for running shell commands\n",
      "import subprocess\n",
      "import os"
     ],
     "language": "python",
     "metadata": {},
     "outputs": [],
     "prompt_number": 4
    },
    {
     "cell_type": "heading",
     "level": 3,
     "metadata": {},
     "source": [
      "# 1. Variable assignments"
     ]
    },
    {
     "cell_type": "raw",
     "metadata": {},
     "source": [
      "Note that any variables set here can be overridden from the pyxis command line using VAR=VALUE. You can also choose to split \n",
      "this part off into a separate pyxis*.conf file, if it gets too big."
     ]
    },
    {
     "cell_type": "code",
     "collapsed": false,
     "input": [
      "# default MS and DDID\n",
      "MS_Template = '3C147_nobl_spw${ms.DDID}.MS'\n",
      "ms.DDID = 2\n",
      "# Note that the magic \"v\" object provides access to \"superglobal\" variables. Superglobals are propagated across\n",
      "# all modules. As a result of the above statement, there's now an identical MS and DDID variable set in every Pyxides \n",
      "# module (which in this case include 'cal', 'ms', 'imager' and 'mqt', the latter two imported by 'cal'), as well \n",
      "# as an MS and DDID variable here. Superglobals are handy, but overreliance on them can lead to namespace pollution \n",
      "# and confusion, so Pyxis uses them very sparingly, i.e. only for truly global things like MS, DDID, LSM, etc.\n",
      "# \n",
      "# Note also that if we say \"MS='dum'\" now, this will set a global MS variable within the context of this particular script,\n",
      "# but not the \"MS\" superglobal. This is another source of confusion, and another reason to assign superglobals sparingly.\n",
      "# Always assign superglobals with v.MS=, not MS=!!!\n",
      "print MS_Template"
     ],
     "language": "python",
     "metadata": {},
     "outputs": [
      {
       "output_type": "stream",
       "stream": "stdout",
       "text": [
        "3C147_nobl_spw${ms.DDID}.MS\n"
       ]
      }
     ],
     "prompt_number": 5
    },
    {
     "cell_type": "code",
     "collapsed": false,
     "input": [
      "# polarized images by default, and extract polarization info in pybdsm\n",
      "imager.stokes=\"IQUV\"\n",
      "lsm.PYBDSM_POLARIZED = True     "
     ],
     "language": "python",
     "metadata": {},
     "outputs": [],
     "prompt_number": 6
    },
    {
     "cell_type": "code",
     "collapsed": false,
     "input": [
      "imager.IMAGE_CHANNELIZE = 0        # 0 means make a single image for the whole band (1 makes a cube)"
     ],
     "language": "python",
     "metadata": {},
     "outputs": [],
     "prompt_number": 7
    },
    {
     "cell_type": "code",
     "collapsed": false,
     "input": [
      "## Some more globals in the imager module\n",
      "imager.ifrs=\"\"\n",
      "imager.mode=\"channel\"\n",
      "imager.weight=\"briggs\"\n",
      "imager.niter=10000\n",
      "imager.gain=.1\n",
      "imager.threshold=0"
     ],
     "language": "python",
     "metadata": {},
     "outputs": [],
     "prompt_number": 8
    },
    {
     "cell_type": "code",
     "collapsed": false,
     "input": [
      "_ms_config = [];\n",
      "_ms_config_lastms = None;"
     ],
     "language": "python",
     "metadata": {},
     "outputs": [],
     "prompt_number": 9
    },
    {
     "cell_type": "code",
     "collapsed": false,
     "input": [
      "def msconfig (pattern,*args,**kw):\n",
      "  \"\"\"Adds MS-specific configuration function or variable assignemnys.\n",
      "  'pattern', e.g. \"3C147-C-*\" is matched (using shell wildcards) against the MS name.\n",
      "  'args' have two forms: either callable functions (which are expected to do configurations\n",
      "  and variable asignment, or they should come as 'name',value pairs (or keyword arguments)\n",
      "  Whenever runcal() below is called, it will see which patterns the MS matches (in the order\n",
      "  that they were added), and perform configuration according to this.\n",
      "  \n",
      "  Example: msconfig(\"3C147-C*\",cconf,'imager.cellsize','2arcsec',LSMBASE='3C147-C.LSM');\n",
      "  This will call cconf(), and set imager.cellsize='2arcsec' and v.LSMBASE='3C147-C.LSM' when\n",
      "  the MS name matches the pattern\"\"\"\n",
      "  if not isinstance(pattern,str):\n",
      "    abort(\"invalid msconfig() pattern '$pattern'\");\n",
      "  cmdlist = [];\n",
      "  while args:\n",
      "    if callable(args[0]):\n",
      "      cmdlist.append(args[0]);\n",
      "      args = args[1:];\n",
      "    elif len(args)<2 or not isinstance(args[0],str):\n",
      "      abort(\"invalid msconfig() argument '%s'\"%str(args[0]));\n",
      "    else:\n",
      "      cmdlist.append(args[0:2]);\n",
      "      args = args[2:];\n",
      "  cmdlist += list(kw.iteritems());\n",
      "  _ms_config.append((pattern,cmdlist));"
     ],
     "language": "python",
     "metadata": {},
     "outputs": [],
     "prompt_number": 10
    },
    {
     "cell_type": "code",
     "collapsed": false,
     "input": [
      "def _MSCONFIG_Template ():\n",
      "  import fnmatch\n",
      "  global _ms_config_lastms;\n",
      "  if MS != _ms_config_lastms:\n",
      "    _ms_config_lastms = MS;\n",
      "    for pattern,cmdlist in _ms_config:\n",
      "      if fnmatch.fnmatch(MS,pattern):\n",
      "        info(\"$MS matches msconfig pattern $pattern:\");\n",
      "        for cmd in cmdlist:\n",
      "          if callable(cmd):\n",
      "            info(\"  calling %s()\"%cmd.__name__);\n",
      "            cmd();\n",
      "          else:\n",
      "            info(\"  assigning %s=%s\"%cmd);\n",
      "            assign(*cmd);\n",
      "  return MS"
     ],
     "language": "python",
     "metadata": {},
     "outputs": [],
     "prompt_number": 11
    },
    {
     "cell_type": "code",
     "collapsed": false,
     "input": [
      "def dconf ():\n",
      "  global NPIX,CLEAN_THRESH,THRESH_ISL,THRESH_PIX\n",
      "  \"\"\"Sets config and imaging options for VLA-D\"\"\"\n",
      "  imager.npix = NPIX = 2048\n",
      "  imager.cellsize = \"8arcsec\"\n",
      "  imager.wprojplanes = 0\n",
      "  imager.CLEAN_ALGORITHM = \"clark\"\n",
      "  v.LSMREF = \"${MS:BASE}.refmodel.lsm.html\"\n",
      "  THRESH_PIX,THRESH_ISL = 50,15\n",
      "  CLEAN_THRESH = \".5mJy\",\".12mJy\",\".06mJy\""
     ],
     "language": "python",
     "metadata": {},
     "outputs": [],
     "prompt_number": 12
    },
    {
     "cell_type": "code",
     "collapsed": false,
     "input": [
      "def cconf ():\n",
      "  global NPIX,CLEAN_THRESH,THRESH_ISL,THRESH_PIX\n",
      "  \"\"\"Sets config and imaging options for VLA-C\"\"\"\n",
      "  imager.npix = NPIX = 4096\n",
      "  imager.cellsize = \"2arcsec\"\n",
      "  imager.wprojplanes = 128\n",
      "  imager.CLEAN_ALGORITHM = \"csclean\"\n",
      "  v.LSMREF = \"${MS:BASE}.refmodel.lsm.html\"\n",
      "  THRESH_PIX,THRESH_ISL = 50,15\n",
      "  CLEAN_THRESH = \".4mJy\",\".1mJy\",\".05mJy\""
     ],
     "language": "python",
     "metadata": {},
     "outputs": [],
     "prompt_number": 13
    },
    {
     "cell_type": "code",
     "collapsed": false,
     "input": [
      "# Now for things specific to this script here.\n",
      "dconf()"
     ],
     "language": "python",
     "metadata": {},
     "outputs": [],
     "prompt_number": 14
    },
    {
     "cell_type": "code",
     "collapsed": false,
     "input": [
      "# Filenames for the LSM at various stages. \n",
      "# Variables ending in _Template are automatically be re-evaluated when e.g. DDID changes, \n",
      "# thus generating the actual LSM0, LSM1, LSM2 variables\n",
      "SUFFIX_Template = \"${-spw<ms.DDID}${-cb<CHBL}\"\n",
      "LSM0_Template = \"$LSMBASE.lsm.html\"\n",
      "LSM1_Template = \"$DESTDIR/$LSMBASE$SUFFIX+pybdsm.lsm.html\"\n",
      "LSM2_Template = \"$DESTDIR/$LSMBASE$SUFFIX+pybdsm+cc.lsm.html\"\n",
      "LSM3_Template = \"$DESTDIR/$LSMBASE$SUFFIX+pybdsm+cc.lsm.html\"\n",
      "LSM_CCMODEL_Template = \"$DESTDIR/$LSMBASE$SUFFIX+ccmodel.fits\"\n",
      "# this is a reference LSM from which we transfer dE tags\n",
      "LSMREF = \"3C147-refmodel.lsm.html\"\n",
      "\n",
      "LOG_Template = \"${OUTDIR>/}log-${MS:BASE}$SUFFIX.txt\"\n",
      "DESTDIR_Template = \"${OUTDIR>/}plots-${MS:BASE}$SUFFIX\"\n",
      "OUTFILE_Template = \"${DESTDIR>/}${MS:BASE}$SUFFIX${-s<STEP}${-<LABEL}\""
     ],
     "language": "python",
     "metadata": {},
     "outputs": [],
     "prompt_number": 15
    },
    {
     "cell_type": "heading",
     "level": 3,
     "metadata": {},
     "source": [
      "# 2. Procedures\n"
     ]
    },
    {
     "cell_type": "raw",
     "metadata": {},
     "source": [
      "Procedures are invoked from the command line (i.e. \"pyxis runcal\" or \"pyxis per_ms[runcal]\").\n",
      "Think of them as recipes or something like that.\n",
      "I've tried to keep this one simple and linear, with everything determined by the variables set above.\n",
      "The net result of this is that any processing stage can be re-created interactively in ipython, by \n",
      "simply typing\n",
      ": import Pyxis\n",
      ": LSM=LSM1\n",
      ": stefcal.stefcal(restore=True);\n",
      "You can also restart the calibration at a specific step by supplying a goto_step>0 here."
     ]
    },
    {
     "cell_type": "code",
     "collapsed": false,
     "input": [
      "def runcal (goto_step=1):\n",
      "  ## initial calibration\n",
      "  if goto_step > 1:\n",
      "    info(\"########## restarting calibration from step $goto_step\");\n",
      "  # Calibration step -- this is just a user-defined label used in filenames (etc. \"blahblah_s1\"), which serves to keep the output from each step\n",
      "  # of a pipeline separate. If this is numeric, then functions such as stefcal.stefcal() will increment it automatically first thing. Otherwise you can set\n",
      "  # it yourself to some more fancy label. Here we also provide a way to hop to  particular step via goto_step\n",
      "  v.STEP = goto_step-1;\n",
      "  \n",
      "  if goto_step < 2:\n",
      "    # set the superglobal LSM\n",
      "    v.LSM = LSM0\n",
      "    info(\"########## solving for G with initial LSM\");\n",
      "    # no w-proj for dirty map to save time\n",
      "    stefcal.stefcal(stefcal_reset_ifr_gains=True,dirty=dict(wprojplanes=0),restore=True);\n",
      "    info(\"########## running source finder and updating model\");\n",
      "    ## now run pybdsm on restored image, output LSM will be given by variable cal.PYBDSM_OUTPUT\n",
      "    lsm.pybdsm_search(threshold=7);\n",
      "    ### merge new sources into sky model, give it a new name ($LSM1)\n",
      "    lsm.tigger_convert(\"$LSM -a ${lsm.PYBDSM_OUTPUT} $LSM1 --rename -f\");\n",
      "  \n",
      "  if goto_step < 3:\n",
      "    info(\"########## solving for G with updated LSM (initial+pybdsm)\");\n",
      "    v.LSM = LSM1\n",
      "    stefcal.stefcal(dirty=dict(wprojplanes=0));\n",
      "    \n",
      "  if goto_step < 4:\n",
      "    info(\"########## re-solving for G to apply IFR solutions\");\n",
      "    stefcal.stefcal(dirty=dict(wprojplanes=0),restore=True);\n",
      "    \n",
      "    info(\"########## adding clean components to LSM\");\n",
      "    CCMODEL = II(\"ccmodel-ddid${ms.DDID}.fits\");  # note the per-style variable interpolation done by the II() function\n",
      "    ff = pyfits.open(imager.MODEL_IMAGE);\n",
      "    dd = ff[0].data;\n",
      "    dd *= 1.0769     # scale up to compensate for selfcal flux suppression\n",
      "    # dd[dd<0] = 0;  # remove negative components\n",
      "    ff.writeto(CCMODEL,clobber=True);\n",
      "    # add model image to LSM\n",
      "    lsm.tigger_convert(\"$LSM $LSM2 --add-brick=ccmodel:$CCMODEL:2 -f\");\n",
      "\n",
      "  if goto_step < 5:          \n",
      "    info(\"########## solving for G with updated LSM (inital+pybdsm+cc)\");\n",
      "    v.LSM = LSM2\n",
      "    stefcal.stefcal(dirty=dict(wprojplanes=0));\n",
      "    \n",
      "  if goto_step < 6:\n",
      "    info(\"########## running DD solutions\");\n",
      "    v.LSM = LSM2\n",
      "    # now, set dE tags on sources\n",
      "    lsm.transfer_tags(LSMREF,LSM,tags=\"dE\",tolerance=45*ARCSEC);\n",
      "  \n",
      "    # make final image\n",
      "    stefcal.stefcal(dirty=dict(wprojplanes=0),diffgains=True,restore=True,label=\"dE\"); "
     ],
     "language": "python",
     "metadata": {},
     "outputs": [],
     "prompt_number": 16
    },
    {
     "cell_type": "code",
     "collapsed": false,
     "input": [
      "def c_cal (goto_step=1):\n",
      "  \"\"\"Calibration for C-config data\"\"\"\n",
      "  ## initial calibration\n",
      "  if goto_step > 1:\n",
      "    info(\"########## restarting calibration from step $goto_step\");\n",
      "  # Calibration step -- this is just a user-defined label used in filenames (etc. \"blahblah_s1\"), which serves to keep the output from each step\n",
      "  # of a pipeline separate. If this is numeric, then functions such as stefcal.stefcal() will increment it automatically first thing. Otherwise you can set\n",
      "  # it yourself to some more fancy label. Here we also provide a way to hop to  particular step via goto_step\n",
      "  v.STEP = goto_step-1;\n",
      "  \n",
      "  if goto_step < 2:\n",
      "    # set the superglobal LSM\n",
      "    v.LSM = LSM0\n",
      "    info(\"########## solving for G with initial LSM\");\n",
      "    # no w-proj for dirty map to save time\n",
      "    stefcal.stefcal(stefcal_reset_all=True,\n",
      "        dirty=dict(wprojplanes=0,npix=NPIX),\n",
      "        restore=dict(npix=NPIX,threshold=CLEAN_THRESH[0],wprojplanes=128));\n",
      "    info(\"########## running source finder and updating model\");\n",
      "    ## now run pybdsm on restored image, output LSM will be given by variable cal.PYBDSM_OUTPUT\n",
      "    ### NB: select on radius to exclude any artefacts picked up around 3C147 itself\n",
      "    lsm.pybdsm_search(thresh_pix=THRESH_PIX,thresh_isl=THRESH_ISL,select=\"r.gt.30s\");\n",
      "    ### merge new sources into sky model, give it a new name ($LSM1)\n",
      "    lsm.tigger_convert(\"$LSM -a ${lsm.PYBDSM_OUTPUT} $LSM1 --rename -f\");\n",
      "  \n",
      "  if goto_step < 3:\n",
      "    info(\"########## solving for G+dE with updated LSM (initial+pybdsm)\");\n",
      "    v.LSM = LSM1\n",
      "    # now, set dE tags on sources\n",
      "    lsm.transfer_tags(LSMREF,LSM,tags=\"dE\",tolerance=45*ARCSEC);\n",
      "    stefcal.stefcal(stefcal_reset_all=True,diffgains=True,dirty=dict(wprojplanes=0,npix=NPIX));\n",
      "    \n",
      "  if goto_step < 4:\n",
      "    info(\"########## re-solving for G to apply IFR solutions\");\n",
      "    v.LSM = LSM1\n",
      "    stefcal.stefcal(diffgains=True,diffgain_apply_only=True,\n",
      "      dirty=dict(wprojplanes=0,npix=NPIX),\n",
      "      restore=dict(npix=NPIX,threshold=CLEAN_THRESH[1]));\n",
      "    \n",
      "    info(\"########## adding clean components to LSM\");\n",
      "    ff = pyfits.open(imager.MODEL_IMAGE);\n",
      "    dd = ff[0].data;\n",
      "    dd *= 1.0769     # scale up to compensate for selfcal flux suppression\n",
      "    # dd[dd<0] = 0;  # remove negative components\n",
      "    ff.writeto(LSM_CCMODEL,clobber=True);\n",
      "    # add model image to LSM\n",
      "    lsm.tigger_convert(\"$LSM $LSM2 --add-brick=ccmodel:$LSM_CCMODEL:2 -f\");\n",
      "\n",
      "  if goto_step < 5:\n",
      "    info(\"########## re-running DD solutions\");\n",
      "    v.LSM = LSM2\n",
      "    # make final image\n",
      "    stefcal.stefcal(dirty=dict(wprojplanes=0,npix=NPIX),diffgains=True,\n",
      "      restore=dict(npix=NPIX,threshold=CLEAN_THRESH[2]),\n",
      "      label=\"dE\"); \n",
      "\n",
      "  # make per-channel cube\n",
      "  makecube(NPIX);\n",
      "  # make noise images     \n",
      "  makenoise();"
     ],
     "language": "python",
     "metadata": {},
     "outputs": [],
     "prompt_number": 17
    },
    {
     "cell_type": "code",
     "collapsed": false,
     "input": [
      "def makenoise ():  \n",
      "  # make noise images     \n",
      "  addnoise();\n",
      "  imager.make_image(channelize=1,dirty_image=\"$OUTFILE.noisecube.fits\",npix=256,wprojplanes=0,stokes=\"I\",column=\"MODEL_DATA\");\n",
      "  imager.make_image(dirty_image=\"$OUTFILE.noise.fits\",npix=256,wprojplanes=0,stokes=\"I\",column=\"MODEL_DATA\");\n",
      "  noise = pyfits.open(II(\"$OUTFILE.noise.fits\"))[0].data.std();\n",
      "  info(\">>> maximum noise value is %.2f uJy\"%(noise*1e+6));"
     ],
     "language": "python",
     "metadata": {},
     "outputs": [],
     "prompt_number": 18
    },
    {
     "cell_type": "code",
     "collapsed": false,
     "input": [
      "def saveconf ():\n",
      "  if OUTDIR and OUTDIR != \".\":\n",
      "    #x.sh(\"cp pyxis-RP3C147.py pyxis-RP3C147.conf tdlconf.profiles $OUTDIR\");\n",
      "    if not os.path.isdir(OUTDIR):\n",
      "      subprocess.call([\"mkdir\", OUTDIR]);  \n",
      "    subprocess.call([\"cp\", \"pyxis-RP3C147.conf\", \"tdlconf.profiles\", OUTDIR]);  \n",
      "\n",
      "DE_SMOOTHING = 18,16"
     ],
     "language": "python",
     "metadata": {},
     "outputs": [],
     "prompt_number": 19
    },
    {
     "cell_type": "code",
     "collapsed": false,
     "input": [
      "def jointcal (goto_step=1,last_step=10,lsmbase=None,STEPS=None):\n",
      "  \"\"\"Calibration for joint C and D-config data\"\"\"\n",
      "  info(\">>>>>>>>>>>>> output directory is $OUTDIR. Please set OUTDIR explicitly to override\");\n",
      "\n",
      "  # setup LSM filenames based on the full MS\n",
      "  # note that these get interpolated once and for all here (and the _Template definitions above\n",
      "  # get cancelled due to the explicit assignment here). The reason for doing it like this\n",
      "  # is because I don't want these names to be changing due to the templates every time the \n",
      "  # MS changes in a per(MS) call.\n",
      "  v.FULLMS = MS\n",
      "  LSM1 = II(\"$DESTDIR/$LSMBASE$SUFFIX+pybdsm.lsm.html\");\n",
      "  LSM2 = II(\"$DESTDIR/$LSMBASE$SUFFIX+pybdsm2.lsm.html\");\n",
      "  LSM3 = II(\"$DESTDIR/$LSMBASE$SUFFIX+pybdsm2+cc.lsm.html\");\n",
      "  LSM_CCMODEL = II(\"$DESTDIR/$LSMBASE$SUFFIX+ccmodel.fits\");\n",
      "  saveconf()\n",
      "\n",
      "  stefcal.STEFCAL_DIFFGAIN_SMOOTHING = DE_SMOOTHING;\n",
      "\n",
      "  # make MS list from sub-MSs\n",
      "  import glob\n",
      "  v.MS_List = glob.glob(MS+\"/SUBMSS/*MS\");\n",
      "  info(\"MS list is $MS_List\");\n",
      "  if not MS_List:\n",
      "    abort(\"No sub-MSs found\");\n",
      "  \n",
      "  imager.npix = NPIX = 4096\n",
      "  imager.cellsize = \"2arcsec\"\n",
      "  imager.wprojplanes = 128\n",
      "  imager.CLEAN_ALGORITHM = \"csclean\"\n",
      "  v.LSMREF = \"${MS:BASE}.refmodel.lsm.html\"\n",
      "  THRESH_PIX,THRESH_ISL = (50,10),(15,5)\n",
      "  CLEAN_THRESH = \".4mJy\",\".1mJy\",\".05mJy\"\n",
      "  stefcal.STEFCAL_STEP_INCR = 0 # precvent stefcal from auto-incrementing v.STEP: we set the step counter explicitly here\n",
      "  \n",
      "  if STEPS is None:\n",
      "    STEPS = list(numpy.arange(goto_step,last_step+.1,.5));\n",
      "  STEPS = map(float,STEPS);\n",
      "\n",
      "  if STEPS[0] != 1:\n",
      "    info(\"########## restarting calibration from step %.1f\"%STEPS[0]);\n",
      "\n",
      "  if lsmbase:\n",
      "    LSMBASE = lsmbase;\n",
      "\n",
      "  ## initial calibration\n",
      "  \n",
      "  if 1. in STEPS:\n",
      "    info(\"########## step 1: solving for G with initial LSM\");\n",
      "    v.LSM,v.STEP = LSM0,1\n",
      "    per_ms(jointcal_g1);\n",
      "    \n",
      "  if 1.5 in STEPS:\n",
      "    info(\"########## step 1.5: making joint image\");\n",
      "    v.LSM,v.STEP = LSM0,1\n",
      "    v.MS = FULLMS\n",
      "    # initial model is total flux only, made from a 2x size image to catch distant sources\n",
      "    imager.make_image(dirty=False,stokes=\"I\",restore=dict(npix=NPIX*2,threshold=CLEAN_THRESH[0],wprojplanes=128),restore_lsm=False);\n",
      "    info(\"########## running source finder and updating model\");\n",
      "    ## now run pybdsm on restored image, output LSM will be given by variable cal.PYBDSM_OUTPUT\n",
      "    ### NB: select on radius to exclude any artefacts picked up around 3C147 itself\n",
      "    lsm.pybdsm_search(thresh_pix=THRESH_PIX[0],thresh_isl=THRESH_ISL[0],select=\"r.gt.30s\",pol=False);\n",
      "    ### merge new sources into sky model, give it a new name ($LSM1)\n",
      "    lsm.tigger_convert(\"$LSM -a ${lsm.PYBDSM_OUTPUT} $LSM1 --rename -f\");\n",
      "\n",
      "  if 2. in STEPS:\n",
      "    info(\"########## step 2: initial dE solution\");\n",
      "    v.LSM,v.STEP = LSM1,2\n",
      "    v.MS = FULLMS  \n",
      "    # now, set dE tags on sources\n",
      "    lsm.transfer_tags(LSMREF,LSM,tags=\"dE\",tolerance=45*ARCSEC);\n",
      "    per_ms(jointcal_de_reset);\n",
      "\n",
      "  if 3. in STEPS:\n",
      "    info(\"########## step 3: re-solving for G to apply IFR solutions\");\n",
      "    v.LSM,v.STEP = LSM1,3\n",
      "    v.MS = FULLMS\n",
      "    per_ms(jointcal_de_apply);\n",
      "    info(\"########## running source finder and updating model\");\n",
      "    v.MS = FULLMS\n",
      "    imager.make_image(dirty=False,stokes=\"IV\",restore=dict(npix=NPIX,threshold=CLEAN_THRESH[1],wprojplanes=128),restore_lsm=False);\n",
      "    ## now run pybdsm on restored image, output LSM will be given by variable cal.PYBDSM_OUTPUT\n",
      "    ### NB: select on radius to exclude any artefacts picked up around 3C147 itself\n",
      "    lsm.pybdsm_search(thresh_pix=THRESH_PIX[1],thresh_isl=THRESH_ISL[1],select=\"r.gt.30s\");\n",
      "    ### merge new sources into sky model, give it a new name ($LSM1)\n",
      "    lsm.tigger_convert(\"$LSM -a ${lsm.PYBDSM_OUTPUT} $LSM2 --rename -f\");\n",
      "\n",
      "  if 4. in STEPS:\n",
      "    info(\"########## step 4: solving for G+dE with updated LSM (initial+pybdsm^2)\");\n",
      "    v.MS = FULLMS\n",
      "    v.LSM,v.STEP = LSM2,4\n",
      "    lsm.transfer_tags(LSMREF,LSM,tags=\"dE\",tolerance=45*ARCSEC);\n",
      "    per_ms(jointcal_de);\n",
      "    v.MS = FULLMS\n",
      "    imager.make_image(dirty=False,stokes=\"IV\",restore=dict(npix=NPIX,threshold=CLEAN_THRESH[1],wprojplanes=128),restore_lsm=False);\n",
      "    info(\"########## adding clean components to LSM\");\n",
      "    ff = pyfits.open(imager.MODEL_IMAGE);\n",
      "    dd = ff[0].data;\n",
      "    dd *= 1.0769     # scale up to compensate for selfcal flux suppression\n",
      "    # dd[dd<0] = 0;  # remove negative components\n",
      "    ff.writeto(LSM_CCMODEL,clobber=True);\n",
      "    # add model image to LSM\n",
      "    lsm.tigger_convert(\"$LSM $LSM3 --add-brick=ccmodel:$LSM_CCMODEL:2 -f\");\n",
      "\n",
      "  if 5. in STEPS:\n",
      "    info(\"########## step 5: re-running DD solutions\");\n",
      "    v.MS = FULLMS\n",
      "    v.LSM,v.STEP = LSM3,5\n",
      "    per_ms(jointcal_de_final);\n",
      "    \n",
      "  if 5.5 in STEPS:\n",
      "    info(\"########## step 5.5: making joint image\");\n",
      "    v.MS = FULLMS\n",
      "    v.LSM,v.STEP = LSM3,5\n",
      "    imager.make_image(dirty=False,stokes=\"IQUV\",restore=dict(npix=NPIX,threshold=CLEAN_THRESH[2],wprojplanes=128),restore_lsm=True);\n",
      "    \n",
      "  if 6. in STEPS:\n",
      "    info(\"########## step 6: noise sim\");\n",
      "    per_ms(lambda:makecube(stokes=\"IQUV\"));\n",
      "    v.LSM,v.STEP = LSM3,5\n",
      "    v.MS = FULLMS;\n",
      "    makecube(stokes=\"IQUV\");\n",
      "    makenoise();"
     ],
     "language": "python",
     "metadata": {},
     "outputs": [],
     "prompt_number": 20
    },
    {
     "cell_type": "code",
     "collapsed": false,
     "input": [
      "def jointcal_g ():\n",
      "  stefcal.stefcal(stefcal_reset_all=True,dirty=dict(wprojplanes=0,npix=NPIX),restore=False);\n",
      "\n",
      "def jointcal_g1 ():\n",
      "  stefcal.stefcal(stefcal_reset_all=True,dirty=dict(wprojplanes=0,npix=NPIX),restore=False,output=\"CORR_DATA\");\n",
      "  \n",
      "def jointcal_de_reset ():\n",
      "  stefcal.stefcal(stefcal_reset_all=True,diffgains=True,dirty=dict(wprojplanes=0,npix=NPIX),restore=False);\n",
      "    \n",
      "def jointcal_de_apply ():\n",
      "  stefcal.stefcal(diffgains=True,diffgain_apply_only=True,\n",
      "    dirty=dict(wprojplanes=0,npix=NPIX),restore=False);\n",
      "\n",
      "def jointcal_de ():\n",
      "  stefcal.stefcal(diffgains=True,dirty=dict(wprojplanes=0,npix=NPIX),restore=False);\n",
      "\n",
      "def jointcal_de_final ():\n",
      "  stefcal.stefcal(diffgains=True,dirty=dict(wprojplanes=0,npix=NPIX),restore=False); # ,options=dict(stefcal_diagonal_ifr_gains='full'))  "
     ],
     "language": "python",
     "metadata": {},
     "outputs": [],
     "prompt_number": 21
    },
    {
     "cell_type": "code",
     "collapsed": false,
     "input": [
      "def makecube (npix=512,stokes=\"I\"):\n",
      "  imager.make_image(channelize=1,dirty_image=\"$OUTFILE.cube.fits\",npix=npix,wprojplanes=0,stokes=stokes);"
     ],
     "language": "python",
     "metadata": {},
     "outputs": [],
     "prompt_number": 22
    },
    {
     "cell_type": "code",
     "collapsed": false,
     "input": [
      "def swapfields (f1,f2):\n",
      "  \"\"\"Swaps two fields in an MS\"\"\"\n",
      "  info(\"swapping FIELDs $f1 and $f2 in $MS\");\n",
      "  field = ms.msw(subtable=\"FIELD\");\n",
      "  for name in field.colnames():\n",
      "    info(\"swapping column $name\");\n",
      "    col = field.getcol(name);\n",
      "    col[f1],col[f2] = col[f2],col[f1];\n",
      "    field.putcol(name,col);\n",
      "  field.close();\n",
      "  tab = ms.msw();\n",
      "  fcol = tab.getcol(\"FIELD_ID\");\n",
      "  r1 = (fcol==f1)\n",
      "  r2 = (fcol==f2)\n",
      "  fcol[r1] = f2\n",
      "  fcol[r2] = f1\n",
      "  tab.putcol(\"FIELD_ID\",fcol);\n",
      "  tab.close();\n",
      "\n",
      "SEFD = 350  \n",
      "INTEGRATION = 0"
     ],
     "language": "python",
     "metadata": {},
     "outputs": [],
     "prompt_number": 23
    },
    {
     "cell_type": "code",
     "collapsed": false,
     "input": [
      "def compute_vis_noise (noise=0):\n",
      "  tab = ms.ms().query(\"FIELD_ID==%d\"%ms.FIELD);\n",
      "  spwtab = ms.ms(subtable=\"SPECTRAL_WINDOW\");\n",
      "  freq0 = spwtab.getcol(\"CHAN_FREQ\")[ms.SPWID,0];\n",
      "  global WAVELENGTH\n",
      "  WAVELENGTH = 300e+6/freq0\n",
      "  bw = spwtab.getcol(\"CHAN_WIDTH\")[ms.SPWID,0];\n",
      "  dt = INTEGRATION or tab.getcol(\"EXPOSURE\",0,1)[0];\n",
      "  dtf = (tab.getcol(\"TIME\",tab.nrows()-1,1)-tab.getcol(\"TIME\",0,1))[0]\n",
      "  # close tables properly, else the calls below will hang waiting for a lock...\n",
      "  tab.close();\n",
      "  spwtab.close();\n",
      "  info(\">>> $MS freq %.2f MHz (lambda=%.2fm), bandwidth %.2g kHz, %.2fs integrations, %.2fh synthesis\"%(freq0*1e-6,WAVELENGTH,bw*1e-3,dt,dtf/3600));\n",
      "  if not noise:\n",
      "    noise = SEFD/math.sqrt(2*bw*dt);\n",
      "    info(\">>> SEFD of %.2f Jy gives per-visibility noise of %.2f mJy\"%(SEFD,noise*1000));\n",
      "  else:\n",
      "    info(\">>> using per-visibility noise of %.2f mJy\"%(noise*1000));\n",
      "  return noise;"
     ],
     "language": "python",
     "metadata": {},
     "outputs": [],
     "prompt_number": 24
    },
    {
     "cell_type": "code",
     "collapsed": false,
     "input": [
      "def addnoise (noise=0,rowchunk=100000):\n",
      "  \"\"\"adds noise to MODEL_DATA, writes to CORRECTED_DATA\"\"\";\n",
      "  # compute expected noise\n",
      "  noise = compute_vis_noise(noise);\n",
      "  # fill MS with noise\n",
      "    # setup stefcal options and run \n",
      "  info(\"Running turbo-sim to add noise to data\");\n",
      "  # setup args\n",
      "  args = [ \"\"\"${ms.MS_TDL} ${ms.CHAN_TDL} ms_sel.ms_ifr_subset_str=${ms.IFRS} noise_stddev=%g\"\"\"%noise ];\n",
      "  mqt.run(\"${mqt.CATTERY}/Siamese/turbo-sim.py\",\"simulate\",section=\"addnoise\",args=args);"
     ],
     "language": "python",
     "metadata": {},
     "outputs": [],
     "prompt_number": 25
    },
    {
     "cell_type": "heading",
     "level": 3,
     "metadata": {},
     "source": [
      "Now start using the recipe"
     ]
    },
    {
     "cell_type": "code",
     "collapsed": false,
     "input": [
      "Pyxis.Commands.pyxreload()\n",
      "print v.MS\n",
      "print '***'\n",
      "#v.MS='3C147-CD-LO.MS'\n",
      "jointcal(STEPS=[1])"
     ],
     "language": "python",
     "metadata": {},
     "outputs": [
      {
       "ename": "SystemExit",
       "evalue": "1",
       "output_type": "pyerr",
       "traceback": [
        "An exception has occurred, use %tb to see the full traceback.\n",
        "\u001b[1;31mSystemExit\u001b[0m\u001b[1;31m:\u001b[0m 1\n"
       ]
      },
      {
       "output_type": "stream",
       "stream": "stdout",
       "text": [
        "2014/02/04 17:04:23 INFO: Reloading Pyxis.Internals\n",
        "2014/02/04 17:04:23 INFO: Reloading Pyxis.Commands\n",
        "2014/02/04 17:04:23 INFO: Reloading Pyxis.ModSupport\n",
        "2014/02/04 17:04:23 INFO: Reloading std\n",
        "2014/02/04 17:04:23 PYXIS: registered module 'std'\n",
        "2014/02/04 17:04:23 INFO: Reloading lsm\n",
        "2014/02/04 17:04:23 PYXIS: registered module 'lsm'\n",
        "2014/02/04 17:04:23 INFO: Reloading stefcal\n",
        "2014/02/04 17:04:23 PYXIS: registered module 'stefcal'\n",
        "2014/02/04 17:04:23 INFO: Reloading mqt\n",
        "2014/02/04 17:04:23 PYXIS: registered module 'mqt'\n",
        "2014/02/04 17:04:23 INFO: Reloading ms\n",
        "2014/02/04 17:04:23 PYXIS: registered module 'ms'\n",
        "2014/02/04 17:04:23 INFO: Reloading imager\n",
        "2014/02/04 17:04:23 PYXIS: registered module 'imager'\n",
        "3C147_nobl_spw2.MS\n",
        "***\n",
        "2014/02/04 17:04:23 INFO: >>>>>>>>>>>>> output directory is reduction-04Feb14. Please set OUTDIR explicitly to override\n",
        "2014/02/04 17:04:23 WARNING: running inside ipython, forcing Pyxis output to console and ignoring LOG assignments\n",
        "2014/02/04 17:04:23 INFO: MS list is []\n",
        "2014/02/04 17:04:23 ABORT: No sub-MSs found\n"
       ]
      },
      {
       "output_type": "stream",
       "stream": "stderr",
       "text": [
        "To exit: use 'exit', 'quit', or Ctrl-D.\n"
       ]
      }
     ],
     "prompt_number": 26
    },
    {
     "cell_type": "code",
     "collapsed": false,
     "input": [
      "reload(Pyxis)"
     ],
     "language": "python",
     "metadata": {},
     "outputs": [
      {
       "output_type": "stream",
       "stream": "stdout",
       "text": [
        "2014/02/04 17:04:23 PYXIS: VERBOSE=1\n",
        "2014/02/04 17:04:23 PYXIS: ===[ Pyxis: Python eXtensions for Inteferometry Scripting (C) 2013 by Oleg Smirnov <oms@ska.ac.za> ]===\n",
        "2014/02/04 17:04:23 PYXIS: loading Pyxis into context '__main__'\n",
        "2014/02/04 17:04:23 PYXIS: auto-loading config files and scripts from 'pyxis*.{py,conf}'. Preset PYXIS_LOAD_CONFIG=False to disable.\n",
        "2014/02/04 17:04:23 PYXIS: loading pyxis-conf.py\n",
        "2014/02/04 17:04:23 PYXIS: loading pyxis-RP3C147.conf\n"
       ]
      },
      {
       "metadata": {},
       "output_type": "pyout",
       "prompt_number": 27,
       "text": [
        "<module 'Pyxis' from '/usr/local/meqtrees/Owlcat/Pyxis/__init__.py'>"
       ]
      }
     ],
     "prompt_number": 27
    },
    {
     "cell_type": "code",
     "collapsed": false,
     "input": [
      "print v.OUTDIR\n",
      "v.MS='3C147-CD-LO.MS'\n",
      "jointcal(STEPS=[1])"
     ],
     "language": "python",
     "metadata": {},
     "outputs": [
      {
       "ename": "UnsupportedOperation",
       "evalue": "IOStream has no fileno.",
       "output_type": "pyerr",
       "traceback": [
        "\u001b[1;31m---------------------------------------------------------------------------\u001b[0m\n\u001b[1;31mUnsupportedOperation\u001b[0m                      Traceback (most recent call last)",
        "\u001b[1;32m<ipython-input-28-31e7dcbc6343>\u001b[0m in \u001b[0;36m<module>\u001b[1;34m()\u001b[0m\n\u001b[0;32m      1\u001b[0m \u001b[1;32mprint\u001b[0m \u001b[0mv\u001b[0m\u001b[1;33m.\u001b[0m\u001b[0mOUTDIR\u001b[0m\u001b[1;33m\u001b[0m\u001b[0m\n\u001b[0;32m      2\u001b[0m \u001b[0mv\u001b[0m\u001b[1;33m.\u001b[0m\u001b[0mMS\u001b[0m\u001b[1;33m=\u001b[0m\u001b[1;34m'3C147-CD-LO.MS'\u001b[0m\u001b[1;33m\u001b[0m\u001b[0m\n\u001b[1;32m----> 3\u001b[1;33m \u001b[0mjointcal\u001b[0m\u001b[1;33m(\u001b[0m\u001b[0mSTEPS\u001b[0m\u001b[1;33m=\u001b[0m\u001b[1;33m[\u001b[0m\u001b[1;36m1\u001b[0m\u001b[1;33m]\u001b[0m\u001b[1;33m)\u001b[0m\u001b[1;33m\u001b[0m\u001b[0m\n\u001b[0m",
        "\u001b[1;32m<ipython-input-20-40da42638929>\u001b[0m in \u001b[0;36mjointcal\u001b[1;34m(goto_step, last_step, lsmbase, STEPS)\u001b[0m\n\u001b[0;32m     48\u001b[0m     \u001b[0minfo\u001b[0m\u001b[1;33m(\u001b[0m\u001b[1;34m\"########## step 1: solving for G with initial LSM\"\u001b[0m\u001b[1;33m)\u001b[0m\u001b[1;33m;\u001b[0m\u001b[1;33m\u001b[0m\u001b[0m\n\u001b[0;32m     49\u001b[0m     \u001b[0mv\u001b[0m\u001b[1;33m.\u001b[0m\u001b[0mLSM\u001b[0m\u001b[1;33m,\u001b[0m\u001b[0mv\u001b[0m\u001b[1;33m.\u001b[0m\u001b[0mSTEP\u001b[0m \u001b[1;33m=\u001b[0m \u001b[0mLSM0\u001b[0m\u001b[1;33m,\u001b[0m\u001b[1;36m1\u001b[0m\u001b[1;33m\u001b[0m\u001b[0m\n\u001b[1;32m---> 50\u001b[1;33m     \u001b[0mper_ms\u001b[0m\u001b[1;33m(\u001b[0m\u001b[0mjointcal_g1\u001b[0m\u001b[1;33m)\u001b[0m\u001b[1;33m;\u001b[0m\u001b[1;33m\u001b[0m\u001b[0m\n\u001b[0m\u001b[0;32m     51\u001b[0m \u001b[1;33m\u001b[0m\u001b[0m\n\u001b[0;32m     52\u001b[0m   \u001b[1;32mif\u001b[0m \u001b[1;36m1.5\u001b[0m \u001b[1;32min\u001b[0m \u001b[0mSTEPS\u001b[0m\u001b[1;33m:\u001b[0m\u001b[1;33m\u001b[0m\u001b[0m\n",
        "\u001b[1;32m/usr/local/meqtrees/Owlcat/Pyxis/Commands.py\u001b[0m in \u001b[0;36mper_ms\u001b[1;34m(*commands)\u001b[0m\n\u001b[0;32m    374\u001b[0m   \"\"\"Iterates over variable 'MS', and executes commands. That is, for every value\n\u001b[0;32m    375\u001b[0m   in MS_List, sets MS to that value, then calls the commands. Default mode is parallel.\"\"\"\n\u001b[1;32m--> 376\u001b[1;33m   \u001b[0m_per\u001b[0m\u001b[1;33m(\u001b[0m\u001b[1;34m\"MS\"\u001b[0m\u001b[1;33m,\u001b[0m\u001b[0mTrue\u001b[0m\u001b[1;33m,\u001b[0m\u001b[1;33m*\u001b[0m\u001b[0mcommands\u001b[0m\u001b[1;33m)\u001b[0m\u001b[1;33m;\u001b[0m\u001b[1;33m\u001b[0m\u001b[0m\n\u001b[0m\u001b[0;32m    377\u001b[0m \u001b[1;33m\u001b[0m\u001b[0m\n\u001b[0;32m    378\u001b[0m \u001b[1;32mdef\u001b[0m \u001b[0mper_ddid\u001b[0m \u001b[1;33m(\u001b[0m\u001b[1;33m*\u001b[0m\u001b[0mcommands\u001b[0m\u001b[1;33m)\u001b[0m\u001b[1;33m:\u001b[0m\u001b[1;33m\u001b[0m\u001b[0m\n",
        "\u001b[1;32m/usr/local/meqtrees/Owlcat/Pyxis/Commands.py\u001b[0m in \u001b[0;36m_per\u001b[1;34m(varname, parallel, *commands)\u001b[0m\n\u001b[0;32m    251\u001b[0m         \u001b[0massign\u001b[0m\u001b[1;33m(\u001b[0m\u001b[0mvname\u001b[0m\u001b[1;33m,\u001b[0m\u001b[0mvalue\u001b[0m\u001b[1;33m,\u001b[0m\u001b[0mnamespace\u001b[0m\u001b[1;33m=\u001b[0m\u001b[0mnamespace\u001b[0m\u001b[1;33m,\u001b[0m\u001b[0minterpolate\u001b[0m\u001b[1;33m=\u001b[0m\u001b[0mFalse\u001b[0m\u001b[1;33m)\u001b[0m\u001b[1;33m;\u001b[0m\u001b[1;33m\u001b[0m\u001b[0m\n\u001b[0;32m    252\u001b[0m         \u001b[1;32mtry\u001b[0m\u001b[1;33m:\u001b[0m\u001b[1;33m\u001b[0m\u001b[0m\n\u001b[1;32m--> 253\u001b[1;33m           \u001b[0mPyxis\u001b[0m\u001b[1;33m.\u001b[0m\u001b[0mInternals\u001b[0m\u001b[1;33m.\u001b[0m\u001b[0mrun\u001b[0m\u001b[1;33m(\u001b[0m\u001b[1;33m*\u001b[0m\u001b[0mcommands\u001b[0m\u001b[1;33m)\u001b[0m\u001b[1;33m;\u001b[0m\u001b[1;33m\u001b[0m\u001b[0m\n\u001b[0m\u001b[0;32m    254\u001b[0m         \u001b[1;32mexcept\u001b[0m \u001b[1;33m(\u001b[0m\u001b[0mException\u001b[0m\u001b[1;33m,\u001b[0m\u001b[0mSystemExit\u001b[0m\u001b[1;33m,\u001b[0m\u001b[0mKeyboardInterrupt\u001b[0m\u001b[1;33m)\u001b[0m \u001b[1;32mas\u001b[0m \u001b[0mexc\u001b[0m\u001b[1;33m:\u001b[0m\u001b[1;33m\u001b[0m\u001b[0m\n\u001b[0;32m    255\u001b[0m           \u001b[1;32mif\u001b[0m \u001b[0mpersist\u001b[0m\u001b[1;33m:\u001b[0m\u001b[1;33m\u001b[0m\u001b[0m\n",
        "\u001b[1;32m/usr/local/meqtrees/Owlcat/Pyxis/Internals.py\u001b[0m in \u001b[0;36mrun\u001b[1;34m(*commands)\u001b[0m\n\u001b[0;32m   1015\u001b[0m       \u001b[0mcomcall\u001b[0m \u001b[1;33m=\u001b[0m \u001b[0mcommand\u001b[0m\u001b[1;33m;\u001b[0m\u001b[1;33m\u001b[0m\u001b[0m\n\u001b[0;32m   1016\u001b[0m       \u001b[0m_verbose\u001b[0m\u001b[1;33m(\u001b[0m\u001b[1;36m1\u001b[0m\u001b[1;33m,\u001b[0m\u001b[1;34m\"running command %s\"\u001b[0m\u001b[1;33m%\u001b[0m\u001b[0mcommand\u001b[0m\u001b[1;33m.\u001b[0m\u001b[0m__name__\u001b[0m\u001b[1;33m)\u001b[0m\u001b[1;33m;\u001b[0m\u001b[1;33m\u001b[0m\u001b[0m\n\u001b[1;32m-> 1017\u001b[1;33m     \u001b[0mcomcall\u001b[0m\u001b[1;33m(\u001b[0m\u001b[1;33m)\u001b[0m\u001b[1;33m;\u001b[0m\u001b[1;33m\u001b[0m\u001b[0m\n\u001b[0m\u001b[0;32m   1018\u001b[0m     \u001b[0massign_templates\u001b[0m\u001b[1;33m(\u001b[0m\u001b[1;33m)\u001b[0m\u001b[1;33m;\u001b[0m\u001b[1;33m\u001b[0m\u001b[0m\n\u001b[0;32m   1019\u001b[0m \u001b[1;33m\u001b[0m\u001b[0m\n",
        "\u001b[1;32m<ipython-input-21-a7a3a58860b0>\u001b[0m in \u001b[0;36mjointcal_g1\u001b[1;34m()\u001b[0m\n\u001b[0;32m      3\u001b[0m \u001b[1;33m\u001b[0m\u001b[0m\n\u001b[0;32m      4\u001b[0m \u001b[1;32mdef\u001b[0m \u001b[0mjointcal_g1\u001b[0m \u001b[1;33m(\u001b[0m\u001b[1;33m)\u001b[0m\u001b[1;33m:\u001b[0m\u001b[1;33m\u001b[0m\u001b[0m\n\u001b[1;32m----> 5\u001b[1;33m   \u001b[0mstefcal\u001b[0m\u001b[1;33m.\u001b[0m\u001b[0mstefcal\u001b[0m\u001b[1;33m(\u001b[0m\u001b[0mstefcal_reset_all\u001b[0m\u001b[1;33m=\u001b[0m\u001b[0mTrue\u001b[0m\u001b[1;33m,\u001b[0m\u001b[0mdirty\u001b[0m\u001b[1;33m=\u001b[0m\u001b[0mdict\u001b[0m\u001b[1;33m(\u001b[0m\u001b[0mwprojplanes\u001b[0m\u001b[1;33m=\u001b[0m\u001b[1;36m0\u001b[0m\u001b[1;33m,\u001b[0m\u001b[0mnpix\u001b[0m\u001b[1;33m=\u001b[0m\u001b[0mNPIX\u001b[0m\u001b[1;33m)\u001b[0m\u001b[1;33m,\u001b[0m\u001b[0mrestore\u001b[0m\u001b[1;33m=\u001b[0m\u001b[0mFalse\u001b[0m\u001b[1;33m,\u001b[0m\u001b[0moutput\u001b[0m\u001b[1;33m=\u001b[0m\u001b[1;34m\"CORR_DATA\"\u001b[0m\u001b[1;33m)\u001b[0m\u001b[1;33m;\u001b[0m\u001b[1;33m\u001b[0m\u001b[0m\n\u001b[0m\u001b[0;32m      6\u001b[0m \u001b[1;33m\u001b[0m\u001b[0m\n\u001b[0;32m      7\u001b[0m \u001b[1;32mdef\u001b[0m \u001b[0mjointcal_de_reset\u001b[0m \u001b[1;33m(\u001b[0m\u001b[1;33m)\u001b[0m\u001b[1;33m:\u001b[0m\u001b[1;33m\u001b[0m\u001b[0m\n",
        "\u001b[1;32m/usr/local/meqtrees/Cattery/Pyxides/stefcal.py\u001b[0m in \u001b[0;36mstefcal\u001b[1;34m(msname, section, diffgains, apply_only, gain_apply_only, diffgain_apply_only, ifrgain_apply_only, diffgain_intervals, diffgain_smoothing, flag_threshold, output, plotvis, dirty, restore, restore_lsm, label, args, options, **kws)\u001b[0m\n\u001b[0;32m    104\u001b[0m   \u001b[0mopts\u001b[0m\u001b[1;33m.\u001b[0m\u001b[0mupdate\u001b[0m\u001b[1;33m(\u001b[0m\u001b[0mkws\u001b[0m\u001b[1;33m)\u001b[0m\u001b[1;33m;\u001b[0m\u001b[1;33m\u001b[0m\u001b[0m\n\u001b[0;32m    105\u001b[0m   \u001b[1;31m# run the job\u001b[0m\u001b[1;33m\u001b[0m\u001b[1;33m\u001b[0m\u001b[0m\n\u001b[1;32m--> 106\u001b[1;33m   \u001b[0mmqt\u001b[0m\u001b[1;33m.\u001b[0m\u001b[0mrun\u001b[0m\u001b[1;33m(\u001b[0m\u001b[0mSTEFCAL_SCRIPT\u001b[0m\u001b[1;33m,\u001b[0m\u001b[0mSTEFCAL_JOBNAME\u001b[0m\u001b[1;33m,\u001b[0m\u001b[0msection\u001b[0m\u001b[1;33m=\u001b[0m\u001b[0msection\u001b[0m\u001b[1;33m,\u001b[0m\u001b[0margs\u001b[0m\u001b[1;33m=\u001b[0m\u001b[0margs0\u001b[0m\u001b[1;33m,\u001b[0m\u001b[0moptions\u001b[0m\u001b[1;33m=\u001b[0m\u001b[0mopts\u001b[0m\u001b[1;33m)\u001b[0m\u001b[1;33m;\u001b[0m\u001b[1;33m\u001b[0m\u001b[0m\n\u001b[0m\u001b[0;32m    107\u001b[0m \u001b[1;33m\u001b[0m\u001b[0m\n\u001b[0;32m    108\u001b[0m   \u001b[1;31m# copy gains\u001b[0m\u001b[1;33m\u001b[0m\u001b[1;33m\u001b[0m\u001b[0m\n",
        "\u001b[1;32m/usr/local/meqtrees/Owlcat/Pyxides/mqt.py\u001b[0m in \u001b[0;36mrun\u001b[1;34m(script, job, config, section, args, options)\u001b[0m\n\u001b[0;32m     44\u001b[0m     \u001b[1;33m[\u001b[0m \u001b[1;34m\"--mt $MULTITHREAD\"\u001b[0m \u001b[1;32mif\u001b[0m \u001b[0mMULTITHREAD\u001b[0m \u001b[1;33m>\u001b[0m \u001b[1;36m1\u001b[0m \u001b[1;32melse\u001b[0m \u001b[1;34m\"\"\u001b[0m \u001b[1;33m]\u001b[0m \u001b[1;33m+\u001b[0m\u001b[1;33m\u001b[0m\u001b[0m\n\u001b[0;32m     45\u001b[0m     \u001b[1;33m[\u001b[0m \u001b[1;34m\"-c $config [$section]\"\u001b[0m \u001b[1;33m]\u001b[0m \u001b[1;33m+\u001b[0m \u001b[0mlist\u001b[0m\u001b[1;33m(\u001b[0m\u001b[0margs\u001b[0m\u001b[1;33m)\u001b[0m \u001b[1;33m+\u001b[0m \u001b[1;33m[\u001b[0m \u001b[1;34m\"%s=%s\"\u001b[0m\u001b[1;33m%\u001b[0m\u001b[1;33m(\u001b[0m\u001b[0ma\u001b[0m\u001b[1;33m,\u001b[0m\u001b[0mb\u001b[0m\u001b[1;33m)\u001b[0m \u001b[1;32mfor\u001b[0m \u001b[0ma\u001b[0m\u001b[1;33m,\u001b[0m\u001b[0mb\u001b[0m \u001b[1;32min\u001b[0m \u001b[0moptions\u001b[0m\u001b[1;33m.\u001b[0m\u001b[0miteritems\u001b[0m\u001b[1;33m(\u001b[0m\u001b[1;33m)\u001b[0m \u001b[1;33m]\u001b[0m\u001b[1;33m+\u001b[0m\u001b[1;33m\u001b[0m\u001b[0m\n\u001b[1;32m---> 46\u001b[1;33m     \u001b[1;33m[\u001b[0m \u001b[1;34m\"$EXTRA_TDLOPTS $script =$job\"\u001b[0m \u001b[1;33m]\u001b[0m\u001b[1;33m\u001b[0m\u001b[0m\n\u001b[0m\u001b[0;32m     47\u001b[0m   ));\n\u001b[0;32m     48\u001b[0m \u001b[1;33m\u001b[0m\u001b[0m\n",
        "\u001b[1;32m/usr/local/meqtrees/Owlcat/Pyxis/Internals.py\u001b[0m in \u001b[0;36m__call__\u001b[1;34m(self, *args, **kws)\u001b[0m\n\u001b[0;32m    166\u001b[0m       \u001b[0margs\u001b[0m\u001b[1;33m,\u001b[0m\u001b[0mkws\u001b[0m \u001b[1;33m=\u001b[0m \u001b[0minterpolate_args\u001b[0m\u001b[1;33m(\u001b[0m\u001b[0margs\u001b[0m\u001b[1;33m,\u001b[0m\u001b[0mkws\u001b[0m\u001b[1;33m,\u001b[0m\u001b[0minspect\u001b[0m\u001b[1;33m.\u001b[0m\u001b[0mcurrentframe\u001b[0m\u001b[1;33m(\u001b[0m\u001b[1;33m)\u001b[0m\u001b[1;33m.\u001b[0m\u001b[0mf_back\u001b[0m\u001b[1;33m,\u001b[0m\u001b[0mconvert_lists\u001b[0m\u001b[1;33m=\u001b[0m\u001b[0mTrue\u001b[0m\u001b[1;33m)\u001b[0m\u001b[1;33m;\u001b[0m\u001b[1;33m\u001b[0m\u001b[0m\n\u001b[0;32m    167\u001b[0m       \u001b[0mkws0\u001b[0m\u001b[1;33m.\u001b[0m\u001b[0mupdate\u001b[0m\u001b[1;33m(\u001b[0m\u001b[0mkws\u001b[0m\u001b[1;33m)\u001b[0m\u001b[1;33m;\u001b[0m\u001b[1;33m\u001b[0m\u001b[0m\n\u001b[1;32m--> 168\u001b[1;33m       \u001b[1;32mreturn\u001b[0m \u001b[0m_call_exec\u001b[0m\u001b[1;33m(\u001b[0m\u001b[0mself\u001b[0m\u001b[1;33m.\u001b[0m\u001b[0mpath\u001b[0m\u001b[1;33m,\u001b[0m\u001b[0mget_output\u001b[0m\u001b[1;33m=\u001b[0m\u001b[0mself\u001b[0m\u001b[1;33m.\u001b[0m\u001b[0mget_output\u001b[0m\u001b[1;33m,\u001b[0m\u001b[0mallow_fail\u001b[0m\u001b[1;33m=\u001b[0m\u001b[0mself\u001b[0m\u001b[1;33m.\u001b[0m\u001b[0mallow_fail\u001b[0m\u001b[1;33m,\u001b[0m\u001b[0mbg\u001b[0m\u001b[1;33m=\u001b[0m\u001b[0mself\u001b[0m\u001b[1;33m.\u001b[0m\u001b[0mbg\u001b[0m\u001b[1;33m,\u001b[0m\u001b[0mverbose\u001b[0m\u001b[1;33m=\u001b[0m\u001b[0mself\u001b[0m\u001b[1;33m.\u001b[0m\u001b[0mverbose\u001b[0m\u001b[1;33m,\u001b[0m\u001b[1;33m*\u001b[0m\u001b[1;33m(\u001b[0m\u001b[0margs0\u001b[0m\u001b[1;33m+\u001b[0m\u001b[0margs\u001b[0m\u001b[1;33m)\u001b[0m\u001b[1;33m,\u001b[0m\u001b[1;33m**\u001b[0m\u001b[0mkws0\u001b[0m\u001b[1;33m)\u001b[0m\u001b[1;33m;\u001b[0m\u001b[1;33m\u001b[0m\u001b[0m\n\u001b[0m\u001b[0;32m    169\u001b[0m \u001b[1;33m\u001b[0m\u001b[0m\n\u001b[0;32m    170\u001b[0m \u001b[1;32mclass\u001b[0m \u001b[0mShellExecutorFactory\u001b[0m \u001b[1;33m(\u001b[0m\u001b[0mobject\u001b[0m\u001b[1;33m)\u001b[0m\u001b[1;33m:\u001b[0m\u001b[1;33m\u001b[0m\u001b[0m\n",
        "\u001b[1;32m/usr/local/meqtrees/Owlcat/Pyxis/Internals.py\u001b[0m in \u001b[0;36m_call_exec\u001b[1;34m(path, *args, **kws)\u001b[0m\n\u001b[0;32m    859\u001b[0m \u001b[1;31m#      #retcode = subprocess.call(args);\u001b[0m\u001b[1;33m\u001b[0m\u001b[1;33m\u001b[0m\u001b[0m\n\u001b[0;32m    860\u001b[0m \u001b[1;31m#    else:\u001b[0m\u001b[1;33m\u001b[0m\u001b[1;33m\u001b[0m\u001b[0m\n\u001b[1;32m--> 861\u001b[1;33m     \u001b[0mpo\u001b[0m \u001b[1;33m=\u001b[0m \u001b[0msubprocess\u001b[0m\u001b[1;33m.\u001b[0m\u001b[0mPopen\u001b[0m\u001b[1;33m(\u001b[0m\u001b[0margs\u001b[0m\u001b[1;33m,\u001b[0m\u001b[0mpreexec_fn\u001b[0m\u001b[1;33m=\u001b[0m\u001b[0m_on_parent_exit\u001b[0m\u001b[1;33m(\u001b[0m\u001b[1;34m'SIGTERM'\u001b[0m\u001b[1;33m)\u001b[0m\u001b[1;33m,\u001b[0m\u001b[0mstdin\u001b[0m\u001b[1;33m=\u001b[0m\u001b[0mstdin\u001b[0m\u001b[1;33m,\u001b[0m\u001b[0mstdout\u001b[0m\u001b[1;33m=\u001b[0m\u001b[0mstdout\u001b[0m\u001b[1;33m,\u001b[0m\u001b[0mstderr\u001b[0m\u001b[1;33m=\u001b[0m\u001b[0mstderr\u001b[0m\u001b[1;33m)\u001b[0m\u001b[1;33m;\u001b[0m\u001b[1;33m\u001b[0m\u001b[0m\n\u001b[0m\u001b[0;32m    862\u001b[0m     \u001b[1;32mif\u001b[0m \u001b[0mstdout\u001b[0m \u001b[1;32mis\u001b[0m \u001b[0msubprocess\u001b[0m\u001b[1;33m.\u001b[0m\u001b[0mPIPE\u001b[0m\u001b[1;33m:\u001b[0m\u001b[1;33m\u001b[0m\u001b[0m\n\u001b[0;32m    863\u001b[0m       \u001b[1;33m(\u001b[0m\u001b[0moutput\u001b[0m\u001b[1;33m,\u001b[0m\u001b[0merr_output\u001b[0m\u001b[1;33m)\u001b[0m \u001b[1;33m=\u001b[0m \u001b[0mpo\u001b[0m\u001b[1;33m.\u001b[0m\u001b[0mcommunicate\u001b[0m\u001b[1;33m(\u001b[0m\u001b[1;33m)\u001b[0m\u001b[1;33m;\u001b[0m\u001b[1;33m\u001b[0m\u001b[0m\n",
        "\u001b[1;32m/usr/lib/python2.7/subprocess.pyc\u001b[0m in \u001b[0;36m__init__\u001b[1;34m(self, args, bufsize, executable, stdin, stdout, stderr, preexec_fn, close_fds, shell, cwd, env, universal_newlines, startupinfo, creationflags)\u001b[0m\n\u001b[0;32m    670\u001b[0m         (p2cread, p2cwrite,\n\u001b[0;32m    671\u001b[0m          \u001b[0mc2pread\u001b[0m\u001b[1;33m,\u001b[0m \u001b[0mc2pwrite\u001b[0m\u001b[1;33m,\u001b[0m\u001b[1;33m\u001b[0m\u001b[0m\n\u001b[1;32m--> 672\u001b[1;33m          errread, errwrite) = self._get_handles(stdin, stdout, stderr)\n\u001b[0m\u001b[0;32m    673\u001b[0m \u001b[1;33m\u001b[0m\u001b[0m\n\u001b[0;32m    674\u001b[0m         self._execute_child(args, executable, preexec_fn, close_fds,\n",
        "\u001b[1;32m/usr/lib/python2.7/subprocess.pyc\u001b[0m in \u001b[0;36m_get_handles\u001b[1;34m(self, stdin, stdout, stderr)\u001b[0m\n\u001b[0;32m   1051\u001b[0m             \u001b[1;32melse\u001b[0m\u001b[1;33m:\u001b[0m\u001b[1;33m\u001b[0m\u001b[0m\n\u001b[0;32m   1052\u001b[0m                 \u001b[1;31m# Assuming file-like object\u001b[0m\u001b[1;33m\u001b[0m\u001b[1;33m\u001b[0m\u001b[0m\n\u001b[1;32m-> 1053\u001b[1;33m                 \u001b[0mc2pwrite\u001b[0m \u001b[1;33m=\u001b[0m \u001b[0mstdout\u001b[0m\u001b[1;33m.\u001b[0m\u001b[0mfileno\u001b[0m\u001b[1;33m(\u001b[0m\u001b[1;33m)\u001b[0m\u001b[1;33m\u001b[0m\u001b[0m\n\u001b[0m\u001b[0;32m   1054\u001b[0m \u001b[1;33m\u001b[0m\u001b[0m\n\u001b[0;32m   1055\u001b[0m             \u001b[1;32mif\u001b[0m \u001b[0mstderr\u001b[0m \u001b[1;32mis\u001b[0m \u001b[0mNone\u001b[0m\u001b[1;33m:\u001b[0m\u001b[1;33m\u001b[0m\u001b[0m\n",
        "\u001b[1;32m/usr/local/lib/python2.7/dist-packages/IPython/kernel/zmq/iostream.pyc\u001b[0m in \u001b[0;36mfileno\u001b[1;34m(self)\u001b[0m\n\u001b[0;32m    174\u001b[0m \u001b[1;33m\u001b[0m\u001b[0m\n\u001b[0;32m    175\u001b[0m     \u001b[1;32mdef\u001b[0m \u001b[0mfileno\u001b[0m\u001b[1;33m(\u001b[0m\u001b[0mself\u001b[0m\u001b[1;33m)\u001b[0m\u001b[1;33m:\u001b[0m\u001b[1;33m\u001b[0m\u001b[0m\n\u001b[1;32m--> 176\u001b[1;33m         \u001b[1;32mraise\u001b[0m \u001b[0mUnsupportedOperation\u001b[0m\u001b[1;33m(\u001b[0m\u001b[1;34m\"IOStream has no fileno.\"\u001b[0m\u001b[1;33m)\u001b[0m\u001b[1;33m\u001b[0m\u001b[0m\n\u001b[0m\u001b[0;32m    177\u001b[0m \u001b[1;33m\u001b[0m\u001b[0m\n\u001b[0;32m    178\u001b[0m     \u001b[1;32mdef\u001b[0m \u001b[0mwrite\u001b[0m\u001b[1;33m(\u001b[0m\u001b[0mself\u001b[0m\u001b[1;33m,\u001b[0m \u001b[0mstring\u001b[0m\u001b[1;33m)\u001b[0m\u001b[1;33m:\u001b[0m\u001b[1;33m\u001b[0m\u001b[0m\n",
        "\u001b[1;31mUnsupportedOperation\u001b[0m: IOStream has no fileno."
       ]
      },
      {
       "output_type": "stream",
       "stream": "stdout",
       "text": [
        "reduction-04Feb14\n",
        "2014/02/04 17:04:23 INFO: 3C147-CD-LO.MS matches msconfig pattern *3C147-CD-*:\n",
        "2014/02/04 17:04:23 INFO:   calling cconf()\n",
        "2014/02/04 17:04:23 INFO:   assigning ms.DDID=0\n",
        "2014/02/04 17:04:23 WARNING: PYXIS: error evaluating template _MSCONFIG_Template\n",
        "2014/02/04 17:04:23 INFO: >>>>>>>>>>>>> output directory is reduction-04Feb14. Please set OUTDIR explicitly to override\n",
        "2014/02/04 17:04:23 INFO: MS list is ['3C147-CD-LO.MS/SUBMSS/3C147-D-LO.MS', '3C147-CD-LO.MS/SUBMSS/3C147-C-LO.MS']\n",
        "2014/02/04 17:04:23 INFO: ########## step 1: solving for G with initial LSM\n",
        "2014/02/04 17:04:23 PYXIS: per(MS,jointcal_g1,persist=0): iterating over MS=3C147-CD-LO.MS/SUBMSS/3C147-D-LO.MS 3C147-CD-LO.MS/SUBMSS/3C147-C-LO.MS\n",
        "2014/02/04 17:04:23 PYXIS: per-loop, setting MS=3C147-CD-LO.MS/SUBMSS/3C147-D-LO.MS\n",
        "2014/02/04 17:04:23 INFO: 3C147-CD-LO.MS/SUBMSS/3C147-D-LO.MS matches msconfig pattern *3C147-CD-*:\n",
        "2014/02/04 17:04:23 INFO:   calling cconf()\n",
        "2014/02/04 17:04:23 INFO:   assigning ms.DDID=0\n",
        "2014/02/04 17:04:23 WARNING: PYXIS: error evaluating template _MSCONFIG_Template\n",
        "2014/02/04 17:04:23 PYXIS: running command jointcal_g1\n",
        "2014/02/04 17:04:23 INFO: Running stefcal step 1 \n",
        "2014/02/04 17:04:23 PYXIS: executing '/usr/bin/time meqtree-pipeliner.py --mt 2 -c tdlconf.profiles [stefcal] ms_sel.ms_ifr_subset_str= \n",
        " stefcal_gain.enabled=1 stefcal_diffgain.enabled=0 stefcal_diffgain.mode=solve-save stefcal_diffgain1.mode=solve-save stefcal_gain1.table=3C147_nobl_spw0.MS/gain1-spw0.cp stefcal_reset_all=True stefcal_gain.table=3C147_nobl_spw0.MS/gain-spw0.cp stefcal_diffgain.freqsmooth=16 stefcal_visualize=False stefcal_diffgain.table=3C147_nobl_spw0.MS/diffgain-spw0.cp do_output=CORR_DATA stefcal_ifr_gain_table=3C147_nobl_spw0.MS/ifrgain-spw0.cp stefcal_diffgain.timesmooth=18 stefcal_diffgain1.table=3C147_nobl_spw0.MS/diffgain-spw0.cp stefcal_diffgain.timeint=0 stefcal_ifr_gain_mode=solve-save stefcal_diffgain.freqint=0 stefcal_gain1.mode=solve-save stefcal_gain.mode=solve-save /Calico/calico-stefcal.py =stefcal':\n",
        "2014/02/04 17:04:23 INFO: 3C147-CD-LO.MS matches msconfig pattern *3C147-CD-*:\n",
        "2014/02/04 17:04:23 INFO:   calling cconf()\n",
        "2014/02/04 17:04:23 INFO:   assigning ms.DDID=0\n",
        "2014/02/04 17:04:23 WARNING: PYXIS: error evaluating template _MSCONFIG_Template\n"
       ]
      },
      {
       "output_type": "stream",
       "stream": "stderr",
       "text": [
        "Traceback (most recent call last):\n",
        "  File \"/usr/local/meqtrees/Owlcat/Pyxis/Internals.py\", line 597, in assign_templates\n",
        "    varvalue = value();\n",
        "  File \"pyxis-conf.py\", line 46, in _MSCONFIG_Template\n",
        "    assign(*cmd);\n",
        "  File \"/usr/local/meqtrees/Owlcat/Pyxis/Internals.py\", line 442, in assign\n",
        "    namespace,name = _resolve_namespace(name,frame,default_namespace,autoimport=autoimport);\n",
        "  File \"/usr/local/meqtrees/Owlcat/Pyxis/Internals.py\", line 432, in _resolve_namespace\n",
        "    raise ValueError,\"invalid namespace %s\"%nsname;\n",
        "ValueError: invalid namespace ms\n",
        "Traceback (most recent call last):\n",
        "  File \"/usr/local/meqtrees/Owlcat/Pyxis/Internals.py\", line 597, in assign_templates\n",
        "    varvalue = value();\n",
        "  File \"pyxis-conf.py\", line 46, in _MSCONFIG_Template\n",
        "    assign(*cmd);\n",
        "  File \"/usr/local/meqtrees/Owlcat/Pyxis/Internals.py\", line 442, in assign\n",
        "    namespace,name = _resolve_namespace(name,frame,default_namespace,autoimport=autoimport);\n",
        "  File \"/usr/local/meqtrees/Owlcat/Pyxis/Internals.py\", line 432, in _resolve_namespace\n",
        "    raise ValueError,\"invalid namespace %s\"%nsname;\n",
        "ValueError: invalid namespace ms\n",
        "Traceback (most recent call last):\n",
        "  File \"/usr/local/meqtrees/Owlcat/Pyxis/Internals.py\", line 597, in assign_templates\n",
        "    varvalue = value();\n",
        "  File \"pyxis-conf.py\", line 46, in _MSCONFIG_Template\n",
        "    assign(*cmd);\n",
        "  File \"/usr/local/meqtrees/Owlcat/Pyxis/Internals.py\", line 442, in assign\n",
        "    namespace,name = _resolve_namespace(name,frame,default_namespace,autoimport=autoimport);\n",
        "  File \"/usr/local/meqtrees/Owlcat/Pyxis/Internals.py\", line 432, in _resolve_namespace\n",
        "    raise ValueError,\"invalid namespace %s\"%nsname;\n",
        "ValueError: invalid namespace ms\n"
       ]
      }
     ],
     "prompt_number": 28
    },
    {
     "cell_type": "code",
     "collapsed": false,
     "input": [],
     "language": "python",
     "metadata": {},
     "outputs": []
    },
    {
     "cell_type": "code",
     "collapsed": false,
     "input": [
      "ls"
     ],
     "language": "python",
     "metadata": {},
     "outputs": []
    },
    {
     "cell_type": "code",
     "collapsed": false,
     "input": [
      "ls"
     ],
     "language": "python",
     "metadata": {},
     "outputs": []
    },
    {
     "cell_type": "code",
     "collapsed": false,
     "input": [],
     "language": "python",
     "metadata": {},
     "outputs": []
    },
    {
     "cell_type": "code",
     "collapsed": false,
     "input": [],
     "language": "python",
     "metadata": {},
     "outputs": []
    }
   ],
   "metadata": {}
  }
 ]
}