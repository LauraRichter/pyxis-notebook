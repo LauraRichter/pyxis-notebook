{
 "metadata": {
  "name": ""
 },
 "nbformat": 3,
 "nbformat_minor": 0,
 "worksheets": [
  {
   "cells": [
    {
     "cell_type": "heading",
     "level": 2,
     "metadata": {},
     "source": [
      "Pyxis calibration pipeline"
     ]
    },
    {
     "cell_type": "raw",
     "metadata": {},
     "source": [
      "This is a Pyxis recipe for JVLA 3C147 calibration.\n",
      "Note that all Pyxis recipes and configurations from your current directory (pyxis-*.{py,conf}) are \n",
      "loaded automatically when you import Pyxis in Python, or when you run the pyxis command-line tool."
     ]
    },
    {
     "cell_type": "code",
     "collapsed": false,
     "input": [
      "import Pyxis"
     ],
     "language": "python",
     "metadata": {},
     "outputs": [
      {
       "output_type": "stream",
       "stream": "stdout",
       "text": [
        "2014/02/05 15:29:05 PYXIS: VERBOSE=1 by default\n",
        "2014/02/05 15:29:05 PYXIS: ===[ Pyxis: Python eXtensions for Inteferometry Scripting (C) 2013 by Oleg Smirnov <oms@ska.ac.za> ]===\n",
        "2014/02/05 15:29:05 PYXIS: loading Pyxis into context '__main__'\n",
        "2014/02/05 15:29:05 PYXIS: auto-loading config files and scripts from 'pyxis*.{py,conf}'. Preset PYXIS_LOAD_CONFIG=False to disable.\n",
        "2014/02/05 15:29:05 PYXIS: loading pyxis-conf.py\n",
        "2014/02/05 15:29:05 PYXIS: registered module 'mqt'\n",
        "2014/02/05 15:29:05 PYXIS: registered module 'std'"
       ]
      },
      {
       "output_type": "stream",
       "stream": "stdout",
       "text": [
        "\n",
        "2014/02/05 15:29:05 PYXIS: registered module 'ms'\n",
        "2014/02/05 15:29:05 PYXIS: registered module 'imager'\n",
        "2014/02/05 15:29:05 PYXIS: registered module 'lsm'\n",
        "2014/02/05 15:29:05 PYXIS: registered module 'stefcal'\n",
        "2014/02/05 15:29:05 PYXIS: loading pyxis-procs.py\n",
        "2014/02/05 15:29:05 PYXIS: loading pyxis-RP3C147.conf\n",
        "2014/02/05 15:29:05 PYXIS: importing top-level modules (std, lsm, stefcal, mqt, ms, imager) for you. Preset PYXIS_AUTO_IMPORT_MODULES=False to disable.\n"
       ]
      },
      {
       "output_type": "stream",
       "stream": "stderr",
       "text": [
        "/usr/lib/python2.7/dist-packages/pyrap.images-0.1.1-py2.7-linux-x86_64.egg/pyrap/__init__.py:3: UserWarning: Module dap was already imported from None, but /usr/lib/python2.7/dist-packages is being added to sys.path\n",
        "  __import__('pkg_resources').declare_namespace(__name__)\n"
       ]
      }
     ],
     "prompt_number": 1
    },
    {
     "cell_type": "raw",
     "metadata": {},
     "source": [
      "Pyxides contains application-specific modules.\n",
      "In this case load the calibration module, and the imager.\n",
      "Note that Pyxides is implicitly added to the include path, so no need to specify it at import"
     ]
    },
    {
     "cell_type": "code",
     "collapsed": false,
     "input": [
      "import mqt,stefcal,imager,lsm,std,ms"
     ],
     "language": "python",
     "metadata": {},
     "outputs": [],
     "prompt_number": 2
    },
    {
     "cell_type": "code",
     "collapsed": false,
     "input": [
      "import numpy\n",
      "import pyfits"
     ],
     "language": "python",
     "metadata": {},
     "outputs": [],
     "prompt_number": 3
    },
    {
     "cell_type": "heading",
     "level": 3,
     "metadata": {},
     "source": [
      "# 1. Variable assignments and config setup"
     ]
    },
    {
     "cell_type": "raw",
     "metadata": {},
     "source": [
      "Variable assignments ahead of running the pipleine. General configuration functions are saved in the pyxis-conf.py, and were defined and were loaded when Pyxis was imported. Configuration particulat to this reduction is saved in pyxis-RP3C147.conf and was also loaded when Pyxis was imported."
     ]
    },
    {
     "cell_type": "code",
     "collapsed": false,
     "input": [
      "# default MS and DDID\n",
      "MS_Template = '3C147_nobl_spw${ms.DDID}.MS'\n",
      "ms.DDID = 0\n",
      "# Note that the magic \"v\" object provides access to \"superglobal\" variables. Superglobals are propagated across\n",
      "# all modules. As a result of the above statement, there's now an identical MS and DDID variable set in every Pyxides \n",
      "# module (which in this case include 'cal', 'ms', 'imager' and 'mqt', the latter two imported by 'cal'), as well \n",
      "# as an MS and DDID variable here. Superglobals are handy, but overreliance on them can lead to namespace pollution \n",
      "# and confusion, so Pyxis uses them very sparingly, i.e. only for truly global things like MS, DDID, LSM, etc.\n",
      "# \n",
      "# Note also that if we say \"MS='dum'\" now, this will set a global MS variable within the context of this particular script,\n",
      "# but not the \"MS\" superglobal. This is another source of confusion, and another reason to assign superglobals sparingly.\n",
      "# Always assign superglobals with v.MS=, not MS=!!!"
     ],
     "language": "python",
     "metadata": {},
     "outputs": [],
     "prompt_number": 4
    },
    {
     "cell_type": "code",
     "collapsed": false,
     "input": [
      "# polarized images by default, and extract polarization info in pybdsm\n",
      "imager.stokes=\"IQUV\"\n",
      "lsm.PYBDSM_POLARIZED = True     "
     ],
     "language": "python",
     "metadata": {},
     "outputs": [],
     "prompt_number": 5
    },
    {
     "cell_type": "code",
     "collapsed": false,
     "input": [
      "imager.IMAGE_CHANNELIZE = 0        # 0 means make a single image for the whole band (1 makes a cube)"
     ],
     "language": "python",
     "metadata": {},
     "outputs": [],
     "prompt_number": 6
    },
    {
     "cell_type": "code",
     "collapsed": false,
     "input": [
      "## Some more globals in the imager module\n",
      "imager.ifrs=\"\"\n",
      "imager.mode=\"channel\"\n",
      "imager.weight=\"briggs\"\n",
      "imager.niter=10000\n",
      "imager.gain=.1\n",
      "imager.threshold=0"
     ],
     "language": "python",
     "metadata": {},
     "outputs": [],
     "prompt_number": 7
    },
    {
     "cell_type": "code",
     "collapsed": false,
     "input": [
      "# set up VLA D configuration parameters\n",
      "dconf()"
     ],
     "language": "python",
     "metadata": {},
     "outputs": [],
     "prompt_number": 8
    },
    {
     "cell_type": "code",
     "collapsed": false,
     "input": [
      "# Filenames for the LSM at various stages. \n",
      "# Variables ending in _Template are automatically be re-evaluated when e.g. DDID changes, \n",
      "# thus generating the actual LSM0, LSM1, LSM2 variables\n",
      "SUFFIX_Template = \"${-spw<ms.DDID}${-cb<CHBL}\"\n",
      "LSM0_Template = \"$LSMBASE.lsm.html\"\n",
      "LSM1_Template = \"$DESTDIR/$LSMBASE$SUFFIX+pybdsm.lsm.html\"\n",
      "LSM2_Template = \"$DESTDIR/$LSMBASE$SUFFIX+pybdsm+cc.lsm.html\"\n",
      "LSM3_Template = \"$DESTDIR/$LSMBASE$SUFFIX+pybdsm+cc.lsm.html\"\n",
      "LSM_CCMODEL_Template = \"$DESTDIR/$LSMBASE$SUFFIX+ccmodel.fits\"\n",
      "# this is a reference LSM from which we transfer dE tags\n",
      "LSMREF = \"3C147-refmodel.lsm.html\"\n",
      "\n",
      "LOG_Template = \"${OUTDIR>/}log-${MS:BASE}$SUFFIX.txt\"\n",
      "DESTDIR_Template = \"${OUTDIR>/}plots-${MS:BASE}$SUFFIX\"\n",
      "OUTFILE_Template = \"${DESTDIR>/}${MS:BASE}$SUFFIX${-s<STEP}${-<LABEL}\""
     ],
     "language": "python",
     "metadata": {},
     "outputs": [],
     "prompt_number": 9
    },
    {
     "cell_type": "code",
     "collapsed": false,
     "input": [
      "# smoothing interval for DE solutions\n",
      "DE_SMOOTHING = 18,16\n",
      "\n",
      "SEFD = 350  \n",
      "INTEGRATION = 0"
     ],
     "language": "python",
     "metadata": {},
     "outputs": [],
     "prompt_number": 10
    },
    {
     "cell_type": "heading",
     "level": 3,
     "metadata": {},
     "source": [
      "# 2. Pipeline procedures\n"
     ]
    },
    {
     "cell_type": "raw",
     "metadata": {},
     "source": [
      "General helper functions are saved in the pyxis-proc.py file and were loaded when Pyxis was imported. Here we keep functions that we expect to modify."
     ]
    },
    {
     "cell_type": "code",
     "collapsed": false,
     "input": [
      "def runcal (goto_step=1):\n",
      "  ## initial calibration\n",
      "  if goto_step > 1:\n",
      "    info(\"########## restarting calibration from step $goto_step\");\n",
      "  # Calibration step -- this is just a user-defined label used in filenames (etc. \"blahblah_s1\"), which serves to keep the output from each step\n",
      "  # of a pipeline separate. If this is numeric, then functions such as stefcal.stefcal() will increment it automatically first thing. Otherwise you can set\n",
      "  # it yourself to some more fancy label. Here we also provide a way to hop to  particular step via goto_step\n",
      "  v.STEP = goto_step-1;\n",
      "  \n",
      "  if goto_step < 2:\n",
      "    # set the superglobal LSM\n",
      "    v.LSM = LSM0\n",
      "    info(\"########## solving for G with initial LSM\");\n",
      "    # no w-proj for dirty map to save time\n",
      "    stefcal.stefcal(stefcal_reset_ifr_gains=True,dirty=dict(wprojplanes=0),restore=True);\n",
      "    info(\"########## running source finder and updating model\");\n",
      "    ## now run pybdsm on restored image, output LSM will be given by variable cal.PYBDSM_OUTPUT\n",
      "    lsm.pybdsm_search(threshold=7);\n",
      "    ### merge new sources into sky model, give it a new name ($LSM1)\n",
      "    lsm.tigger_convert(\"$LSM -a ${lsm.PYBDSM_OUTPUT} $LSM1 --rename -f\");\n",
      "  \n",
      "  if goto_step < 3:\n",
      "    info(\"########## solving for G with updated LSM (initial+pybdsm)\");\n",
      "    v.LSM = LSM1\n",
      "    stefcal.stefcal(dirty=dict(wprojplanes=0));\n",
      "    \n",
      "  if goto_step < 4:\n",
      "    info(\"########## re-solving for G to apply IFR solutions\");\n",
      "    stefcal.stefcal(dirty=dict(wprojplanes=0),restore=True);\n",
      "    \n",
      "    info(\"########## adding clean components to LSM\");\n",
      "    CCMODEL = II(\"ccmodel-ddid${ms.DDID}.fits\");  # note the per-style variable interpolation done by the II() function\n",
      "    ff = pyfits.open(imager.MODEL_IMAGE);\n",
      "    dd = ff[0].data;\n",
      "    dd *= 1.0769     # scale up to compensate for selfcal flux suppression\n",
      "    # dd[dd<0] = 0;  # remove negative components\n",
      "    ff.writeto(CCMODEL,clobber=True);\n",
      "    # add model image to LSM\n",
      "    lsm.tigger_convert(\"$LSM $LSM2 --add-brick=ccmodel:$CCMODEL:2 -f\");\n",
      "\n",
      "  if goto_step < 5:          \n",
      "    info(\"########## solving for G with updated LSM (inital+pybdsm+cc)\");\n",
      "    v.LSM = LSM2\n",
      "    stefcal.stefcal(dirty=dict(wprojplanes=0));\n",
      "    \n",
      "  if goto_step < 6:\n",
      "    info(\"########## running DD solutions\");\n",
      "    v.LSM = LSM2\n",
      "    # now, set dE tags on sources\n",
      "    lsm.transfer_tags(LSMREF,LSM,tags=\"dE\",tolerance=45*ARCSEC);\n",
      "  \n",
      "    # make final image\n",
      "    stefcal.stefcal(dirty=dict(wprojplanes=0),diffgains=True,restore=True,label=\"dE\"); "
     ],
     "language": "python",
     "metadata": {},
     "outputs": [],
     "prompt_number": 11
    },
    {
     "cell_type": "code",
     "collapsed": false,
     "input": [
      "def jointcal (goto_step=1,last_step=10,lsmbase=None,STEPS=None):\n",
      "  \"\"\"Calibration for joint C and D-config data\"\"\"\n",
      "  info(\">>>>>>>>>>>>> output directory is $OUTDIR. Please set OUTDIR explicitly to override\");\n",
      "\n",
      "  # setup LSM filenames based on the full MS\n",
      "  # note that these get interpolated once and for all here (and the _Template definitions above\n",
      "  # get cancelled due to the explicit assignment here). The reason for doing it like this\n",
      "  # is because I don't want these names to be changing due to the templates every time the \n",
      "  # MS changes in a per(MS) call.\n",
      "  v.FULLMS = MS\n",
      "  LSM1 = II(\"$DESTDIR/$LSMBASE$SUFFIX+pybdsm.lsm.html\");\n",
      "  LSM2 = II(\"$DESTDIR/$LSMBASE$SUFFIX+pybdsm2.lsm.html\");\n",
      "  LSM3 = II(\"$DESTDIR/$LSMBASE$SUFFIX+pybdsm2+cc.lsm.html\");\n",
      "  LSM_CCMODEL = II(\"$DESTDIR/$LSMBASE$SUFFIX+ccmodel.fits\");\n",
      "  saveconf()\n",
      "\n",
      "  stefcal.STEFCAL_DIFFGAIN_SMOOTHING = DE_SMOOTHING;\n",
      "\n",
      "  # make MS list from sub-MSs\n",
      "  import glob\n",
      "  v.MS_List = glob.glob(MS+\"/SUBMSS/*MS\");\n",
      "  info(\"MS list is $MS_List\");\n",
      "  if not MS_List:\n",
      "    abort(\"No sub-MSs found\");\n",
      "  \n",
      "  imager.npix = NPIX = 4096\n",
      "  imager.cellsize = \"2arcsec\"\n",
      "  imager.wprojplanes = 128\n",
      "  imager.CLEAN_ALGORITHM = \"csclean\"\n",
      "  v.LSMREF = \"${MS:BASE}.refmodel.lsm.html\"\n",
      "  THRESH_PIX,THRESH_ISL = (50,10),(15,5)\n",
      "  CLEAN_THRESH = \".4mJy\",\".1mJy\",\".05mJy\"\n",
      "  stefcal.STEFCAL_STEP_INCR = 0 # precvent stefcal from auto-incrementing v.STEP: we set the step counter explicitly here\n",
      "  \n",
      "  if STEPS is None:\n",
      "    STEPS = list(numpy.arange(goto_step,last_step+.1,.5));\n",
      "  STEPS = map(float,STEPS);\n",
      "\n",
      "  if STEPS[0] != 1:\n",
      "    info(\"########## restarting calibration from step %.1f\"%STEPS[0]);\n",
      "\n",
      "  if lsmbase:\n",
      "    LSMBASE = lsmbase;\n",
      "\n",
      "  ## initial calibration\n",
      "  \n",
      "  if 1. in STEPS:\n",
      "    info(\"########## step 1: solving for G with initial LSM\");\n",
      "    v.LSM,v.STEP = LSM0,1\n",
      "    per_ms(jointcal_g1);\n",
      "    \n",
      "  if 1.5 in STEPS:\n",
      "    info(\"########## step 1.5: making joint image\");\n",
      "    v.LSM,v.STEP = LSM0,1\n",
      "    v.MS = FULLMS\n",
      "    # initial model is total flux only, made from a 2x size image to catch distant sources\n",
      "    #imager.make_image(dirty=False,stokes=\"I\",restore=dict(npix=NPIX*2,threshold=CLEAN_THRESH[0],wprojplanes=128),restore_lsm=False);\n",
      "    info(\"########## running source finder and updating model\");\n",
      "    ## now run pybdsm on restored image, output LSM will be given by variable cal.PYBDSM_OUTPUT\n",
      "    ### NB: select on radius to exclude any artefacts picked up around 3C147 itself\n",
      "    lsm.pybdsm_search(thresh_pix=THRESH_PIX[0],thresh_isl=THRESH_ISL[0],select=\"r.gt.30s\",pol=False);\n",
      "    ### merge new sources into sky model, give it a new name ($LSM1)\n",
      "    lsm.tigger_convert(\"$LSM -a ${lsm.PYBDSM_OUTPUT} $LSM1 --rename -f\");\n",
      "\n",
      "  if 2. in STEPS:\n",
      "    info(\"########## step 2: initial dE solution\");\n",
      "    v.LSM,v.STEP = LSM1,2\n",
      "    v.MS = FULLMS  \n",
      "    # now, set dE tags on sources\n",
      "    lsm.transfer_tags(LSMREF,LSM,tags=\"dE\",tolerance=45*ARCSEC);\n",
      "    per_ms(jointcal_de_reset);\n",
      "\n",
      "  if 3. in STEPS:\n",
      "    info(\"########## step 3: re-solving for G to apply IFR solutions\");\n",
      "    v.LSM,v.STEP = LSM1,3\n",
      "    v.MS = FULLMS\n",
      "    per_ms(jointcal_de_apply);\n",
      "    info(\"########## running source finder and updating model\");\n",
      "    v.MS = FULLMS\n",
      "    imager.make_image(dirty=False,stokes=\"IV\",restore=dict(npix=NPIX,threshold=CLEAN_THRESH[1],wprojplanes=128),restore_lsm=False);\n",
      "    ## now run pybdsm on restored image, output LSM will be given by variable cal.PYBDSM_OUTPUT\n",
      "    ### NB: select on radius to exclude any artefacts picked up around 3C147 itself\n",
      "    lsm.pybdsm_search(thresh_pix=THRESH_PIX[1],thresh_isl=THRESH_ISL[1],select=\"r.gt.30s\");\n",
      "    ### merge new sources into sky model, give it a new name ($LSM1)\n",
      "    lsm.tigger_convert(\"$LSM -a ${lsm.PYBDSM_OUTPUT} $LSM2 --rename -f\");\n",
      "\n",
      "  if 4. in STEPS:\n",
      "    info(\"########## step 4: solving for G+dE with updated LSM (initial+pybdsm^2)\");\n",
      "    v.MS = FULLMS\n",
      "    v.LSM,v.STEP = LSM2,4\n",
      "    lsm.transfer_tags(LSMREF,LSM,tags=\"dE\",tolerance=45*ARCSEC);\n",
      "    per_ms(jointcal_de);\n",
      "    v.MS = FULLMS\n",
      "    imager.make_image(dirty=False,stokes=\"IV\",restore=dict(npix=NPIX,threshold=CLEAN_THRESH[1],wprojplanes=128),restore_lsm=False);\n",
      "    info(\"########## adding clean components to LSM\");\n",
      "    ff = pyfits.open(imager.MODEL_IMAGE);\n",
      "    dd = ff[0].data;\n",
      "    dd *= 1.0769     # scale up to compensate for selfcal flux suppression\n",
      "    # dd[dd<0] = 0;  # remove negative components\n",
      "    ff.writeto(LSM_CCMODEL,clobber=True);\n",
      "    # add model image to LSM\n",
      "    lsm.tigger_convert(\"$LSM $LSM3 --add-brick=ccmodel:$LSM_CCMODEL:2 -f\");\n",
      "\n",
      "  if 5. in STEPS:\n",
      "    info(\"########## step 5: re-running DD solutions\");\n",
      "    v.MS = FULLMS\n",
      "    v.LSM,v.STEP = LSM3,5\n",
      "    per_ms(jointcal_de_final);\n",
      "    \n",
      "  if 5.5 in STEPS:\n",
      "    info(\"########## step 5.5: making joint image\");\n",
      "    v.MS = FULLMS\n",
      "    v.LSM,v.STEP = LSM3,5\n",
      "    imager.make_image(dirty=False,stokes=\"IQUV\",restore=dict(npix=NPIX,threshold=CLEAN_THRESH[2],wprojplanes=128),restore_lsm=True);\n",
      "    \n",
      "  if 6. in STEPS:\n",
      "    info(\"########## step 6: noise sim\");\n",
      "    per_ms(lambda:makecube(stokes=\"IQUV\"));\n",
      "    v.LSM,v.STEP = LSM3,5\n",
      "    v.MS = FULLMS;\n",
      "    makecube(stokes=\"IQUV\");\n",
      "    makenoise();"
     ],
     "language": "python",
     "metadata": {},
     "outputs": [],
     "prompt_number": 12
    },
    {
     "cell_type": "code",
     "collapsed": false,
     "input": [
      "def jointcal_g ():\n",
      "  stefcal.stefcal(stefcal_reset_all=True,dirty=dict(wprojplanes=0,npix=NPIX),restore=False);\n",
      "\n",
      "def jointcal_g1 ():\n",
      "  stefcal.stefcal(stefcal_reset_all=True,dirty=dict(wprojplanes=0,npix=NPIX),restore=False,output=\"CORR_DATA\");\n",
      "  \n",
      "def jointcal_de_reset ():\n",
      "  stefcal.stefcal(stefcal_reset_all=True,diffgains=True,dirty=dict(wprojplanes=0,npix=NPIX),restore=False);\n",
      "    \n",
      "def jointcal_de_apply ():\n",
      "  stefcal.stefcal(diffgains=True,diffgain_apply_only=True,\n",
      "    dirty=dict(wprojplanes=0,npix=NPIX),restore=False);\n",
      "\n",
      "def jointcal_de ():\n",
      "  stefcal.stefcal(diffgains=True,dirty=dict(wprojplanes=0,npix=NPIX),restore=False);\n",
      "\n",
      "def jointcal_de_final ():\n",
      "  stefcal.stefcal(diffgains=True,dirty=dict(wprojplanes=0,npix=NPIX),restore=False); # ,options=dict(stefcal_diagonal_ifr_gains='full'))  "
     ],
     "language": "python",
     "metadata": {},
     "outputs": [],
     "prompt_number": 13
    },
    {
     "cell_type": "heading",
     "level": 3,
     "metadata": {},
     "source": [
      "#3 Run the recipe"
     ]
    },
    {
     "cell_type": "code",
     "collapsed": false,
     "input": [
      "#Pyxis.Commands.pyxreload()\n",
      "v.MS='3C147-CD-LO.MS'\n",
      "#jointcal(STEPS=[1])"
     ],
     "language": "python",
     "metadata": {},
     "outputs": [
      {
       "output_type": "stream",
       "stream": "stdout",
       "text": [
        "Successful readonly open of default-locked table 3C147-CD-LO.MS: 28 columns, 2090662 rows\n",
        "Successful readonly open of default-locked table /home/laura/pyxis-pipeline/3C147-CD-LO.MS/SUBMSS/3C147-D-LO.MS/DATA_DESCRIPTION: 3 columns, 1 rows\n",
        "Successful readonly open of default-locked table 3C147-CD-LO.MS: 28 columns, 2090662 rows\n",
        "Successful readonly open of default-locked table /home/laura/pyxis-pipeline/3C147-CD-LO.MS/SUBMSS/3C147-D-LO.MS/DATA_DESCRIPTION: 3 columns, 1 rows\n",
        "Successful readonly open of default-locked table 3C147-CD-LO.MS: 28 columns, 2090662 rows\n",
        "Successful readonly open of default-locked table /home/laura/pyxis-pipeline/3C147-CD-LO.MS/SUBMSS/3C147-D-LO.MS/SPECTRAL_WINDOW: 14 columns, 1 rows\n",
        "2014/02/05 15:29:06 INFO: 3C147-CD-LO.MS ddid 0 is spwid 0 with 64 channels\n",
        "2014/02/05 15:29:06 INFO: 3C147-CD-LO.MS matches msconfig pattern *3C147-CD-*:\n",
        "2014/02/05 15:29:06 INFO:   calling cconf()\n",
        "2014/02/05 15:29:06 INFO:   assigning ms.DDID=0\n",
        "2014/02/05 15:29:06 INFO:   assigning ms.FIELD=0\n",
        "2014/02/05 15:29:06 INFO:   assigning ms.CHANRANGE=(1, 62)\n",
        "2014/02/05 15:29:06 INFO:   assigning INTEGRATION=5\n",
        "2014/02/05 15:29:06 WARNING: running inside ipython, forcing Pyxis output to console and ignoring LOG assignments\n"
       ]
      }
     ],
     "prompt_number": 14
    },
    {
     "cell_type": "code",
     "collapsed": false,
     "input": [
      "jointcal(STEPS=[1.5])"
     ],
     "language": "python",
     "metadata": {},
     "outputs": [
      {
       "output_type": "stream",
       "stream": "stderr",
       "text": [
        "\u001b[1;34m--> Opened 'reduction-05Feb14/plots-3C147-CD-LO-spw0/3C147-CD-LO-spw0-s1.restored.fits'\u001b[0m\n"
       ]
      },
      {
       "output_type": "stream",
       "stream": "stderr",
       "text": [
        "Image size .............................. : (8192, 8192) pixels\n"
       ]
      },
      {
       "output_type": "stream",
       "stream": "stderr",
       "text": [
        "Number of channels ...................... : 1\n"
       ]
      },
      {
       "output_type": "stream",
       "stream": "stderr",
       "text": [
        "Number of Stokes parameters ............. : 1\n"
       ]
      },
      {
       "output_type": "stream",
       "stream": "stdout",
       "text": [
        "2014/02/05 15:29:06 INFO: >>>>>>>>>>>>> output directory is reduction-05Feb14. Please set OUTDIR explicitly to override\n",
        "2014/02/05 15:29:06 PYXIS: executing 'cp pyxis-*.py pyxis-*.conf tdlconf.profiles reduction-05Feb14':\n",
        "2014/02/05 15:29:06 PYXIS: 'cp pyxis-*.py pyxis-*.conf tdlconf.profiles reduction-05Feb14' succeeded\n",
        "2014/02/05 15:29:06 INFO: MS list is ['3C147-CD-LO.MS/SUBMSS/3C147-D-LO.MS', '3C147-CD-LO.MS/SUBMSS/3C147-C-LO.MS']\n",
        "2014/02/05 15:29:06 INFO: ########## restarting calibration from step 1.5\n",
        "2014/02/05 15:29:06 INFO: ########## step 1.5: making joint image\n",
        "2014/02/05 15:29:06 INFO: ########## running source finder and updating model\n",
        "2014/02/05 15:29:06 INFO: running PyBDSM process_image(reduction-05Feb14/plots-3C147-CD-LO-spw0/3C147-CD-LO-spw0-s1.restored.fits,polarisation_do=False,quiet=True,thresh_isl=15,thresh_pix=50)\n",
        "WARNING"
       ]
      },
      {
       "output_type": "stream",
       "stream": "stderr",
       "text": [
        "Beam shape (major, minor, pos angle) .... : (0.00391, 0.00363, 63.9) degrees\n"
       ]
      },
      {
       "output_type": "stream",
       "stream": "stderr",
       "text": [
        "Frequency of image ...................... : 1423.000 MHz\n"
       ]
      },
      {
       "output_type": "stream",
       "stream": "stderr",
       "text": [
        "Number of blank pixels .................. : 0 (0.0%)\n"
       ]
      },
      {
       "output_type": "stream",
       "stream": "stderr",
       "text": [
        "Flux from sum of (non-blank) pixels ..... : 22.636 Jy\n"
       ]
      },
      {
       "output_type": "stream",
       "stream": "stderr",
       "text": [
        "\u001b[1;34m--> Calculating background rms and mean images\u001b[0m\n"
       ]
      },
      {
       "output_type": "stream",
       "stream": "stdout",
       "text": [
        ": FITSFixedWarning: 'spcfix' made the change 'Changed SPECSYS to 'LSRK''. This FITS header contains non-standard content. [astropy.wcs.wcs]\n"
       ]
      },
      {
       "ename": "IOError",
       "evalue": "[Errno 4] Interrupted system call",
       "output_type": "pyerr",
       "traceback": [
        "\u001b[1;31m---------------------------------------------------------------------------\u001b[0m\n\u001b[1;31mIOError\u001b[0m                                   Traceback (most recent call last)",
        "\u001b[1;32m<ipython-input-15-34f1f65796d2>\u001b[0m in \u001b[0;36m<module>\u001b[1;34m()\u001b[0m\n\u001b[1;32m----> 1\u001b[1;33m \u001b[0mjointcal\u001b[0m\u001b[1;33m(\u001b[0m\u001b[0mSTEPS\u001b[0m\u001b[1;33m=\u001b[0m\u001b[1;33m[\u001b[0m\u001b[1;36m1.5\u001b[0m\u001b[1;33m]\u001b[0m\u001b[1;33m)\u001b[0m\u001b[1;33m\u001b[0m\u001b[0m\n\u001b[0m",
        "\u001b[1;32m<ipython-input-12-9129847861b2>\u001b[0m in \u001b[0;36mjointcal\u001b[1;34m(goto_step, last_step, lsmbase, STEPS)\u001b[0m\n\u001b[0;32m     59\u001b[0m     \u001b[1;31m## now run pybdsm on restored image, output LSM will be given by variable cal.PYBDSM_OUTPUT\u001b[0m\u001b[1;33m\u001b[0m\u001b[1;33m\u001b[0m\u001b[0m\n\u001b[0;32m     60\u001b[0m     \u001b[1;31m### NB: select on radius to exclude any artefacts picked up around 3C147 itself\u001b[0m\u001b[1;33m\u001b[0m\u001b[1;33m\u001b[0m\u001b[0m\n\u001b[1;32m---> 61\u001b[1;33m     \u001b[0mlsm\u001b[0m\u001b[1;33m.\u001b[0m\u001b[0mpybdsm_search\u001b[0m\u001b[1;33m(\u001b[0m\u001b[0mthresh_pix\u001b[0m\u001b[1;33m=\u001b[0m\u001b[0mTHRESH_PIX\u001b[0m\u001b[1;33m[\u001b[0m\u001b[1;36m0\u001b[0m\u001b[1;33m]\u001b[0m\u001b[1;33m,\u001b[0m\u001b[0mthresh_isl\u001b[0m\u001b[1;33m=\u001b[0m\u001b[0mTHRESH_ISL\u001b[0m\u001b[1;33m[\u001b[0m\u001b[1;36m0\u001b[0m\u001b[1;33m]\u001b[0m\u001b[1;33m,\u001b[0m\u001b[0mselect\u001b[0m\u001b[1;33m=\u001b[0m\u001b[1;34m\"r.gt.30s\"\u001b[0m\u001b[1;33m,\u001b[0m\u001b[0mpol\u001b[0m\u001b[1;33m=\u001b[0m\u001b[0mFalse\u001b[0m\u001b[1;33m)\u001b[0m\u001b[1;33m;\u001b[0m\u001b[1;33m\u001b[0m\u001b[0m\n\u001b[0m\u001b[0;32m     62\u001b[0m     \u001b[1;31m### merge new sources into sky model, give it a new name ($LSM1)\u001b[0m\u001b[1;33m\u001b[0m\u001b[1;33m\u001b[0m\u001b[0m\n\u001b[0;32m     63\u001b[0m     \u001b[0mlsm\u001b[0m\u001b[1;33m.\u001b[0m\u001b[0mtigger_convert\u001b[0m\u001b[1;33m(\u001b[0m\u001b[1;34m\"$LSM -a ${lsm.PYBDSM_OUTPUT} $LSM1 --rename -f\"\u001b[0m\u001b[1;33m)\u001b[0m\u001b[1;33m;\u001b[0m\u001b[1;33m\u001b[0m\u001b[0m\n",
        "\u001b[1;32m/home/laura/git/pyxis/Pyxides/lsm.pyc\u001b[0m in \u001b[0;36mpybdsm_search\u001b[1;34m(image, output, pol, select, threshold, pbexp, **kw)\u001b[0m\n\u001b[0;32m     60\u001b[0m   \u001b[0minfo\u001b[0m\u001b[1;33m(\u001b[0m\u001b[1;34m\"running PyBDSM process_image($image,%s)\"\u001b[0m\u001b[1;33m%\u001b[0m\u001b[1;34m\",\"\u001b[0m\u001b[1;33m.\u001b[0m\u001b[0mjoin\u001b[0m\u001b[1;33m(\u001b[0m\u001b[0msorted\u001b[0m\u001b[1;33m(\u001b[0m\u001b[1;33m[\u001b[0m \u001b[1;34m\"%s=%s\"\u001b[0m\u001b[1;33m%\u001b[0m\u001b[0mx\u001b[0m \u001b[1;32mfor\u001b[0m \u001b[0mx\u001b[0m \u001b[1;32min\u001b[0m \u001b[0mopts\u001b[0m\u001b[1;33m.\u001b[0m\u001b[0miteritems\u001b[0m\u001b[1;33m(\u001b[0m\u001b[1;33m)\u001b[0m \u001b[1;33m]\u001b[0m\u001b[1;33m)\u001b[0m\u001b[1;33m)\u001b[0m\u001b[1;33m)\u001b[0m\u001b[1;33m;\u001b[0m\u001b[1;33m\u001b[0m\u001b[0m\n\u001b[0;32m     61\u001b[0m   \u001b[1;32mfrom\u001b[0m \u001b[0mlofar\u001b[0m \u001b[1;32mimport\u001b[0m \u001b[0mbdsm\u001b[0m\u001b[1;33m\u001b[0m\u001b[0m\n\u001b[1;32m---> 62\u001b[1;33m   \u001b[0mimg\u001b[0m \u001b[1;33m=\u001b[0m \u001b[0mbdsm\u001b[0m\u001b[1;33m.\u001b[0m\u001b[0mprocess_image\u001b[0m\u001b[1;33m(\u001b[0m\u001b[0mimage\u001b[0m\u001b[1;33m,\u001b[0m\u001b[1;33m**\u001b[0m\u001b[0mkw\u001b[0m\u001b[1;33m)\u001b[0m\u001b[1;33m;\u001b[0m\u001b[1;33m\u001b[0m\u001b[0m\n\u001b[0m\u001b[0;32m     63\u001b[0m   \u001b[0minfo\u001b[0m\u001b[1;33m(\u001b[0m\u001b[1;34m\"writing PyBDSM gaul catalog\"\u001b[0m\u001b[1;33m)\u001b[0m\u001b[1;33m;\u001b[0m\u001b[1;33m\u001b[0m\u001b[0m\n\u001b[0;32m     64\u001b[0m   \u001b[0mimg\u001b[0m\u001b[1;33m.\u001b[0m\u001b[0mwrite_catalog\u001b[0m\u001b[1;33m(\u001b[0m\u001b[0moutfile\u001b[0m\u001b[1;33m=\u001b[0m\u001b[0mgaul\u001b[0m\u001b[1;33m,\u001b[0m\u001b[0mformat\u001b[0m\u001b[1;33m=\u001b[0m\u001b[1;34m'ascii'\u001b[0m\u001b[1;33m,\u001b[0m\u001b[0mcatalog_type\u001b[0m\u001b[1;33m=\u001b[0m\u001b[1;34m'gaul'\u001b[0m\u001b[1;33m,\u001b[0m\u001b[0mclobber\u001b[0m\u001b[1;33m=\u001b[0m\u001b[0mTrue\u001b[0m\u001b[1;33m)\u001b[0m\u001b[1;33m;\u001b[0m\u001b[1;33m\u001b[0m\u001b[0m\n",
        "\u001b[1;32m/usr/local/lofarsoft-trunk/lib/python2.7/dist-packages/lofar/bdsm/__init__.py\u001b[0m in \u001b[0;36mprocess_image\u001b[1;34m(input, **kwargs)\u001b[0m\n\u001b[0;32m    241\u001b[0m     \u001b[1;31m# Now process it. Any kwargs specified by the user will\u001b[0m\u001b[1;33m\u001b[0m\u001b[1;33m\u001b[0m\u001b[0m\n\u001b[0;32m    242\u001b[0m     \u001b[1;31m# override those read in from the parameter save file or dictionary.\u001b[0m\u001b[1;33m\u001b[0m\u001b[1;33m\u001b[0m\u001b[0m\n\u001b[1;32m--> 243\u001b[1;33m     \u001b[0mimg\u001b[0m\u001b[1;33m.\u001b[0m\u001b[0mprocess\u001b[0m\u001b[1;33m(\u001b[0m\u001b[1;33m**\u001b[0m\u001b[0mkwargs\u001b[0m\u001b[1;33m)\u001b[0m\u001b[1;33m\u001b[0m\u001b[0m\n\u001b[0m\u001b[0;32m    244\u001b[0m     \u001b[1;32mreturn\u001b[0m \u001b[0mimg\u001b[0m\u001b[1;33m\u001b[0m\u001b[0m\n",
        "\u001b[1;32m/usr/local/lofarsoft-trunk/lib/python2.7/dist-packages/lofar/bdsm/image.pyc\u001b[0m in \u001b[0;36mprocess\u001b[1;34m(self, **kwargs)\u001b[0m\n\u001b[0;32m    124\u001b[0m         \u001b[1;34m\"\"\"Process Image object\"\"\"\u001b[0m\u001b[1;33m\u001b[0m\u001b[0m\n\u001b[0;32m    125\u001b[0m         \u001b[1;32mimport\u001b[0m \u001b[0minterface\u001b[0m\u001b[1;33m\u001b[0m\u001b[0m\n\u001b[1;32m--> 126\u001b[1;33m         \u001b[0msuccess\u001b[0m \u001b[1;33m=\u001b[0m \u001b[0minterface\u001b[0m\u001b[1;33m.\u001b[0m\u001b[0mprocess\u001b[0m\u001b[1;33m(\u001b[0m\u001b[0mself\u001b[0m\u001b[1;33m,\u001b[0m \u001b[1;33m**\u001b[0m\u001b[0mkwargs\u001b[0m\u001b[1;33m)\u001b[0m\u001b[1;33m\u001b[0m\u001b[0m\n\u001b[0m\u001b[0;32m    127\u001b[0m         \u001b[1;32mreturn\u001b[0m \u001b[0msuccess\u001b[0m\u001b[1;33m\u001b[0m\u001b[0m\n\u001b[0;32m    128\u001b[0m \u001b[1;33m\u001b[0m\u001b[0m\n",
        "\u001b[1;32m/usr/local/lofarsoft-trunk/lib/python2.7/dist-packages/lofar/bdsm/interface.pyc\u001b[0m in \u001b[0;36mprocess\u001b[1;34m(img, **kwargs)\u001b[0m\n\u001b[0;32m     51\u001b[0m         \u001b[0mimg\u001b[0m\u001b[1;33m,\u001b[0m \u001b[0mop_chain\u001b[0m \u001b[1;33m=\u001b[0m \u001b[0mget_op_chain\u001b[0m\u001b[1;33m(\u001b[0m\u001b[0mimg\u001b[0m\u001b[1;33m)\u001b[0m\u001b[1;33m\u001b[0m\u001b[0m\n\u001b[0;32m     52\u001b[0m         \u001b[1;32mif\u001b[0m \u001b[0mop_chain\u001b[0m \u001b[1;32mis\u001b[0m \u001b[1;32mnot\u001b[0m \u001b[0mNone\u001b[0m\u001b[1;33m:\u001b[0m\u001b[1;33m\u001b[0m\u001b[0m\n\u001b[1;32m---> 53\u001b[1;33m             \u001b[0m_run_op_list\u001b[0m\u001b[1;33m(\u001b[0m\u001b[0mimg\u001b[0m\u001b[1;33m,\u001b[0m \u001b[0mop_chain\u001b[0m\u001b[1;33m)\u001b[0m\u001b[1;33m\u001b[0m\u001b[0m\n\u001b[0m\u001b[0;32m     54\u001b[0m             \u001b[0mimg\u001b[0m\u001b[1;33m.\u001b[0m\u001b[0m_prev_opts\u001b[0m \u001b[1;33m=\u001b[0m \u001b[0mimg\u001b[0m\u001b[1;33m.\u001b[0m\u001b[0mopts\u001b[0m\u001b[1;33m.\u001b[0m\u001b[0mto_dict\u001b[0m\u001b[1;33m(\u001b[0m\u001b[1;33m)\u001b[0m\u001b[1;33m\u001b[0m\u001b[0m\n\u001b[0;32m     55\u001b[0m         \u001b[1;32mreturn\u001b[0m \u001b[0mTrue\u001b[0m\u001b[1;33m\u001b[0m\u001b[0m\n",
        "\u001b[1;32m/usr/local/lofarsoft-trunk/lib/python2.7/dist-packages/lofar/bdsm/__init__.py\u001b[0m in \u001b[0;36m_run_op_list\u001b[1;34m(img, chain)\u001b[0m\n\u001b[0;32m    147\u001b[0m                 \u001b[0mansw\u001b[0m \u001b[1;33m=\u001b[0m \u001b[0mraw_input_no_history\u001b[0m\u001b[1;33m(\u001b[0m\u001b[0mprompt\u001b[0m\u001b[1;33m)\u001b[0m\u001b[1;33m\u001b[0m\u001b[0m\n\u001b[0;32m    148\u001b[0m         \u001b[0mop\u001b[0m\u001b[1;33m.\u001b[0m\u001b[0m__start_time\u001b[0m \u001b[1;33m=\u001b[0m \u001b[0mtime\u001b[0m\u001b[1;33m(\u001b[0m\u001b[1;33m)\u001b[0m\u001b[1;33m\u001b[0m\u001b[0m\n\u001b[1;32m--> 149\u001b[1;33m         \u001b[0mop\u001b[0m\u001b[1;33m(\u001b[0m\u001b[0mimg\u001b[0m\u001b[1;33m)\u001b[0m\u001b[1;33m\u001b[0m\u001b[0m\n\u001b[0m\u001b[0;32m    150\u001b[0m         \u001b[0mop\u001b[0m\u001b[1;33m.\u001b[0m\u001b[0m__stop_time\u001b[0m \u001b[1;33m=\u001b[0m \u001b[0mtime\u001b[0m\u001b[1;33m(\u001b[0m\u001b[1;33m)\u001b[0m\u001b[1;33m\u001b[0m\u001b[0m\n\u001b[0;32m    151\u001b[0m         \u001b[0mgc\u001b[0m\u001b[1;33m.\u001b[0m\u001b[0mcollect\u001b[0m\u001b[1;33m(\u001b[0m\u001b[1;33m)\u001b[0m\u001b[1;33m\u001b[0m\u001b[0m\n",
        "\u001b[1;32m/usr/local/lofarsoft-trunk/lib/python2.7/dist-packages/lofar/bdsm/rmsimage.pyc\u001b[0m in \u001b[0;36m__call__\u001b[1;34m(self, img)\u001b[0m\n\u001b[0;32m    231\u001b[0m                 mean, rms = self.calculate_maps(img, data, mean, rms, mask, map_opts, do_adapt=do_adapt,\n\u001b[0;32m    232\u001b[0m                                 \u001b[0mbright_pt_coords\u001b[0m\u001b[1;33m=\u001b[0m\u001b[0misl_pos\u001b[0m\u001b[1;33m,\u001b[0m \u001b[0mrms_box2\u001b[0m\u001b[1;33m=\u001b[0m\u001b[0mimg\u001b[0m\u001b[1;33m.\u001b[0m\u001b[0mrms_box\u001b[0m\u001b[1;33m,\u001b[0m\u001b[1;33m\u001b[0m\u001b[0m\n\u001b[1;32m--> 233\u001b[1;33m                                 logname=\"PyBDSM.\"+img.log, ncores=img.opts.ncores)\n\u001b[0m\u001b[0;32m    234\u001b[0m               \u001b[1;32melif\u001b[0m \u001b[0mlen\u001b[0m\u001b[1;33m(\u001b[0m\u001b[0mdata\u001b[0m\u001b[1;33m.\u001b[0m\u001b[0mshape\u001b[0m\u001b[1;33m)\u001b[0m \u001b[1;33m==\u001b[0m \u001b[1;36m3\u001b[0m\u001b[1;33m:\u001b[0m \u001b[1;31m## 3d case\u001b[0m\u001b[1;33m\u001b[0m\u001b[0m\n\u001b[0;32m    235\u001b[0m                 \u001b[1;32mif\u001b[0m \u001b[1;32mnot\u001b[0m \u001b[0misinstance\u001b[0m\u001b[1;33m(\u001b[0m\u001b[0mmask\u001b[0m\u001b[1;33m,\u001b[0m \u001b[0mN\u001b[0m\u001b[1;33m.\u001b[0m\u001b[0mndarray\u001b[0m\u001b[1;33m)\u001b[0m\u001b[1;33m:\u001b[0m\u001b[1;33m\u001b[0m\u001b[0m\n",
        "\u001b[1;32m/usr/local/lofarsoft-trunk/lib/python2.7/dist-packages/lofar/bdsm/rmsimage.pyc\u001b[0m in \u001b[0;36mcalculate_maps\u001b[1;34m(self, img, data, mean, rms, mask, map_opts, do_adapt, bright_pt_coords, rms_box2, logname, ncores)\u001b[0m\n\u001b[0;32m    428\u001b[0m             self.map_2d(data, mean, rms, mask, *map_opts, do_adapt=do_adapt,\n\u001b[0;32m    429\u001b[0m                         \u001b[0mbright_pt_coords\u001b[0m\u001b[1;33m=\u001b[0m\u001b[0mbright_pt_coords\u001b[0m\u001b[1;33m,\u001b[0m \u001b[0mrms_box2\u001b[0m\u001b[1;33m=\u001b[0m\u001b[0mrms_box2\u001b[0m\u001b[1;33m,\u001b[0m\u001b[1;33m\u001b[0m\u001b[0m\n\u001b[1;32m--> 430\u001b[1;33m                         logname=logname, ncores=ncores)\n\u001b[0m\u001b[0;32m    431\u001b[0m             \u001b[1;32mif\u001b[0m \u001b[0mN\u001b[0m\u001b[1;33m.\u001b[0m\u001b[0many\u001b[0m\u001b[1;33m(\u001b[0m\u001b[0mrms\u001b[0m \u001b[1;33m<\u001b[0m \u001b[1;36m0.0\u001b[0m\u001b[1;33m)\u001b[0m\u001b[1;33m:\u001b[0m\u001b[1;33m\u001b[0m\u001b[0m\n\u001b[0;32m    432\u001b[0m                 \u001b[0mrms_ok\u001b[0m \u001b[1;33m=\u001b[0m \u001b[0mFalse\u001b[0m\u001b[1;33m\u001b[0m\u001b[0m\n",
        "\u001b[1;32m/usr/local/lofarsoft-trunk/lib/python2.7/dist-packages/lofar/bdsm/rmsimage.pyc\u001b[0m in \u001b[0;36mmap_2d\u001b[1;34m(self, arr, out_mean, out_rms, mask, kappa, box, interp, do_adapt, bright_pt_coords, rms_box2, logname, ncores)\u001b[0m\n\u001b[0;32m    495\u001b[0m         \"\"\"\n\u001b[0;32m    496\u001b[0m         \u001b[0mmask_small\u001b[0m \u001b[1;33m=\u001b[0m \u001b[0mmask\u001b[0m\u001b[1;33m\u001b[0m\u001b[0m\n\u001b[1;32m--> 497\u001b[1;33m         \u001b[0maxes\u001b[0m\u001b[1;33m,\u001b[0m \u001b[0mmean_map1\u001b[0m\u001b[1;33m,\u001b[0m \u001b[0mrms_map1\u001b[0m \u001b[1;33m=\u001b[0m \u001b[0mself\u001b[0m\u001b[1;33m.\u001b[0m\u001b[0mrms_mean_map\u001b[0m\u001b[1;33m(\u001b[0m\u001b[0marr\u001b[0m\u001b[1;33m,\u001b[0m \u001b[0mmask_small\u001b[0m\u001b[1;33m,\u001b[0m \u001b[0mkappa\u001b[0m\u001b[1;33m,\u001b[0m \u001b[0mbox\u001b[0m\u001b[1;33m,\u001b[0m \u001b[0mncores\u001b[0m\u001b[1;33m)\u001b[0m\u001b[1;33m\u001b[0m\u001b[0m\n\u001b[0m\u001b[0;32m    498\u001b[0m         \u001b[0max\u001b[0m \u001b[1;33m=\u001b[0m \u001b[0mmap\u001b[0m\u001b[1;33m(\u001b[0m\u001b[0mself\u001b[0m\u001b[1;33m.\u001b[0m\u001b[0mremap_axis\u001b[0m\u001b[1;33m,\u001b[0m \u001b[0marr\u001b[0m\u001b[1;33m.\u001b[0m\u001b[0mshape\u001b[0m\u001b[1;33m,\u001b[0m \u001b[0maxes\u001b[0m\u001b[1;33m)\u001b[0m\u001b[1;33m\u001b[0m\u001b[0m\n\u001b[0;32m    499\u001b[0m         \u001b[0max\u001b[0m \u001b[1;33m=\u001b[0m \u001b[0mN\u001b[0m\u001b[1;33m.\u001b[0m\u001b[0mmeshgrid\u001b[0m\u001b[1;33m(\u001b[0m\u001b[1;33m*\u001b[0m\u001b[0max\u001b[0m\u001b[1;33m[\u001b[0m\u001b[1;33m-\u001b[0m\u001b[1;36m1\u001b[0m\u001b[1;33m:\u001b[0m\u001b[1;33m:\u001b[0m\u001b[1;33m-\u001b[0m\u001b[1;36m1\u001b[0m\u001b[1;33m]\u001b[0m\u001b[1;33m)\u001b[0m\u001b[1;33m\u001b[0m\u001b[0m\n",
        "\u001b[1;32m/usr/local/lofarsoft-trunk/lib/python2.7/dist-packages/lofar/bdsm/rmsimage.pyc\u001b[0m in \u001b[0;36mrms_mean_map\u001b[1;34m(self, arr, mask, kappa, box, ncores)\u001b[0m\n\u001b[0;32m    673\u001b[0m                     itertools.izip(itertools.repeat(self.process_mean_rms_maps),\n\u001b[0;32m    674\u001b[0m                     \u001b[0mind_list\u001b[0m\u001b[1;33m,\u001b[0m \u001b[0mitertools\u001b[0m\u001b[1;33m.\u001b[0m\u001b[0mrepeat\u001b[0m\u001b[1;33m(\u001b[0m\u001b[0mmask_pad\u001b[0m\u001b[1;33m)\u001b[0m\u001b[1;33m,\u001b[0m \u001b[0mitertools\u001b[0m\u001b[1;33m.\u001b[0m\u001b[0mrepeat\u001b[0m\u001b[1;33m(\u001b[0m\u001b[0marr_pad\u001b[0m\u001b[1;33m)\u001b[0m\u001b[1;33m,\u001b[0m\u001b[1;33m\u001b[0m\u001b[0m\n\u001b[1;32m--> 675\u001b[1;33m                     itertools.repeat(kappa)), numcores=ncores)\n\u001b[0m\u001b[0;32m    676\u001b[0m \u001b[1;33m\u001b[0m\u001b[0m\n\u001b[0;32m    677\u001b[0m         \u001b[1;32mfor\u001b[0m \u001b[0mi\u001b[0m\u001b[1;33m,\u001b[0m \u001b[0mco\u001b[0m \u001b[1;32min\u001b[0m \u001b[0menumerate\u001b[0m\u001b[1;33m(\u001b[0m\u001b[0mcoord_list\u001b[0m\u001b[1;33m)\u001b[0m\u001b[1;33m:\u001b[0m\u001b[1;33m\u001b[0m\u001b[0m\n",
        "\u001b[1;32m/usr/local/lofarsoft-trunk/lib/python2.7/dist-packages/lofar/bdsm/multi_proc.pyc\u001b[0m in \u001b[0;36mparallel_map\u001b[1;34m(function, sequence, numcores, bar, weights)\u001b[0m\n\u001b[0;32m    209\u001b[0m \u001b[1;33m\u001b[0m\u001b[0m\n\u001b[0;32m    210\u001b[0m     \u001b[1;32mtry\u001b[0m\u001b[1;33m:\u001b[0m\u001b[1;33m\u001b[0m\u001b[0m\n\u001b[1;32m--> 211\u001b[1;33m         \u001b[0mresults\u001b[0m \u001b[1;33m=\u001b[0m \u001b[0mrun_tasks\u001b[0m\u001b[1;33m(\u001b[0m\u001b[0mprocs\u001b[0m\u001b[1;33m,\u001b[0m \u001b[0merr_q\u001b[0m\u001b[1;33m,\u001b[0m \u001b[0mout_q\u001b[0m\u001b[1;33m,\u001b[0m \u001b[0mlen\u001b[0m\u001b[1;33m(\u001b[0m\u001b[0msequence\u001b[0m\u001b[1;33m)\u001b[0m\u001b[1;33m)\u001b[0m\u001b[1;33m\u001b[0m\u001b[0m\n\u001b[0m\u001b[0;32m    212\u001b[0m         \u001b[1;32mif\u001b[0m \u001b[0mbar\u001b[0m \u001b[1;33m!=\u001b[0m \u001b[0mNone\u001b[0m\u001b[1;33m:\u001b[0m\u001b[1;33m\u001b[0m\u001b[0m\n\u001b[0;32m    213\u001b[0m             \u001b[1;32mif\u001b[0m \u001b[0mbar\u001b[0m\u001b[1;33m.\u001b[0m\u001b[0mstarted\u001b[0m\u001b[1;33m:\u001b[0m\u001b[1;33m\u001b[0m\u001b[0m\n",
        "\u001b[1;32m/usr/local/lofarsoft-trunk/lib/python2.7/dist-packages/lofar/bdsm/multi_proc.pyc\u001b[0m in \u001b[0;36mrun_tasks\u001b[1;34m(procs, err_q, out_q, num)\u001b[0m\n\u001b[0;32m    108\u001b[0m     \u001b[0mresults\u001b[0m\u001b[1;33m=\u001b[0m\u001b[1;33m[\u001b[0m\u001b[0mNone\u001b[0m\u001b[1;33m]\u001b[0m\u001b[1;33m*\u001b[0m\u001b[0mnum\u001b[0m\u001b[1;33m;\u001b[0m\u001b[1;33m\u001b[0m\u001b[0m\n\u001b[0;32m    109\u001b[0m     \u001b[1;32mfor\u001b[0m \u001b[0mi\u001b[0m \u001b[1;32min\u001b[0m \u001b[0mrange\u001b[0m\u001b[1;33m(\u001b[0m\u001b[0mnum\u001b[0m\u001b[1;33m)\u001b[0m\u001b[1;33m:\u001b[0m\u001b[1;33m\u001b[0m\u001b[0m\n\u001b[1;32m--> 110\u001b[1;33m         \u001b[0midx\u001b[0m\u001b[1;33m,\u001b[0m \u001b[0mresult\u001b[0m \u001b[1;33m=\u001b[0m \u001b[0mout_q\u001b[0m\u001b[1;33m.\u001b[0m\u001b[0mget\u001b[0m\u001b[1;33m(\u001b[0m\u001b[1;33m)\u001b[0m\u001b[1;33m\u001b[0m\u001b[0m\n\u001b[0m\u001b[0;32m    111\u001b[0m         \u001b[0mresults\u001b[0m\u001b[1;33m[\u001b[0m\u001b[0midx\u001b[0m\u001b[1;33m]\u001b[0m \u001b[1;33m=\u001b[0m \u001b[0mresult\u001b[0m\u001b[1;33m\u001b[0m\u001b[0m\n\u001b[0;32m    112\u001b[0m \u001b[1;33m\u001b[0m\u001b[0m\n",
        "\u001b[1;32m<string>\u001b[0m in \u001b[0;36mget\u001b[1;34m(self, *args, **kwds)\u001b[0m\n",
        "\u001b[1;32m/usr/lib/python2.7/multiprocessing/managers.pyc\u001b[0m in \u001b[0;36m_callmethod\u001b[1;34m(self, methodname, args, kwds)\u001b[0m\n\u001b[0;32m    757\u001b[0m \u001b[1;33m\u001b[0m\u001b[0m\n\u001b[0;32m    758\u001b[0m         \u001b[0mconn\u001b[0m\u001b[1;33m.\u001b[0m\u001b[0msend\u001b[0m\u001b[1;33m(\u001b[0m\u001b[1;33m(\u001b[0m\u001b[0mself\u001b[0m\u001b[1;33m.\u001b[0m\u001b[0m_id\u001b[0m\u001b[1;33m,\u001b[0m \u001b[0mmethodname\u001b[0m\u001b[1;33m,\u001b[0m \u001b[0margs\u001b[0m\u001b[1;33m,\u001b[0m \u001b[0mkwds\u001b[0m\u001b[1;33m)\u001b[0m\u001b[1;33m)\u001b[0m\u001b[1;33m\u001b[0m\u001b[0m\n\u001b[1;32m--> 759\u001b[1;33m         \u001b[0mkind\u001b[0m\u001b[1;33m,\u001b[0m \u001b[0mresult\u001b[0m \u001b[1;33m=\u001b[0m \u001b[0mconn\u001b[0m\u001b[1;33m.\u001b[0m\u001b[0mrecv\u001b[0m\u001b[1;33m(\u001b[0m\u001b[1;33m)\u001b[0m\u001b[1;33m\u001b[0m\u001b[0m\n\u001b[0m\u001b[0;32m    760\u001b[0m \u001b[1;33m\u001b[0m\u001b[0m\n\u001b[0;32m    761\u001b[0m         \u001b[1;32mif\u001b[0m \u001b[0mkind\u001b[0m \u001b[1;33m==\u001b[0m \u001b[1;34m'#RETURN'\u001b[0m\u001b[1;33m:\u001b[0m\u001b[1;33m\u001b[0m\u001b[0m\n",
        "\u001b[1;31mIOError\u001b[0m: [Errno 4] Interrupted system call"
       ]
      },
      {
       "output_type": "stream",
       "stream": "stdout",
       "text": [
        "ERROR: IOError: [Errno 4] Interrupted system call [multiprocessing.managers]\n"
       ]
      }
     ],
     "prompt_number": 15
    },
    {
     "cell_type": "code",
     "collapsed": false,
     "input": [
      "#from Pyxis import x\n",
      "#x.sh(\"echo $IMAGE_LIST\");\n",
      "f=pyfits.open(imager.DIRTY_IMAGE)\n",
      "f.data"
     ],
     "language": "python",
     "metadata": {},
     "outputs": []
    },
    {
     "cell_type": "code",
     "collapsed": false,
     "input": [],
     "language": "python",
     "metadata": {},
     "outputs": []
    },
    {
     "cell_type": "code",
     "collapsed": false,
     "input": [],
     "language": "python",
     "metadata": {},
     "outputs": []
    },
    {
     "cell_type": "code",
     "collapsed": false,
     "input": [],
     "language": "python",
     "metadata": {},
     "outputs": []
    },
    {
     "cell_type": "code",
     "collapsed": false,
     "input": [],
     "language": "python",
     "metadata": {},
     "outputs": []
    },
    {
     "cell_type": "code",
     "collapsed": false,
     "input": [],
     "language": "python",
     "metadata": {},
     "outputs": []
    }
   ],
   "metadata": {}
  }
 ]
}