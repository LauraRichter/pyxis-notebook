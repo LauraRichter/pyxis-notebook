{
 "metadata": {
  "name": ""
 },
 "nbformat": 3,
 "nbformat_minor": 0,
 "worksheets": [
  {
   "cells": [
    {
     "cell_type": "heading",
     "level": 1,
     "metadata": {},
     "source": [
      "Pyxis calibration pipeline:\n",
      "3C147 JVLA project"
     ]
    },
    {
     "cell_type": "raw",
     "metadata": {},
     "source": [
      "This is a Pyxis recipe for JVLA 3C147 calibration.\n",
      "Note that all Pyxis recipes and configurations from your current directory (pyxis-*.{py,conf}) are \n",
      "loaded automatically when you import Pyxis in Python, or when you run the pyxis command-line tool."
     ]
    },
    {
     "cell_type": "code",
     "collapsed": false,
     "input": [
      "import Pyxis\n",
      "v.VERBOSE = 1\n",
      "v.JOBS = 0"
     ],
     "language": "python",
     "metadata": {},
     "outputs": []
    },
    {
     "cell_type": "raw",
     "metadata": {},
     "source": [
      "Pyxides contains application-specific modules.\n",
      "In this case load the calibration module, and the imager.\n",
      "Note that Pyxides is implicitly added to the include path, so no need to specify it at import"
     ]
    },
    {
     "cell_type": "code",
     "collapsed": false,
     "input": [
      "import mqt,stefcal,imager,lsm,std,ms"
     ],
     "language": "python",
     "metadata": {},
     "outputs": []
    },
    {
     "cell_type": "code",
     "collapsed": false,
     "input": [
      "import numpy\n",
      "import pyfits"
     ],
     "language": "python",
     "metadata": {},
     "outputs": []
    },
    {
     "cell_type": "code",
     "collapsed": false,
     "input": [
      "# notebook plotting module\n",
      "from nbutils import nbplot"
     ],
     "language": "python",
     "metadata": {},
     "outputs": []
    },
    {
     "cell_type": "heading",
     "level": 3,
     "metadata": {},
     "source": [
      "# 1. Variable assignments and config setup"
     ]
    },
    {
     "cell_type": "raw",
     "metadata": {},
     "source": [
      "Variable assignments ahead of running the pipleine. \n",
      "General configuration functions are saved in the pyxis-conf.py, and were defined and were loaded when Pyxis was imported. Configuration particulat to this reduction is saved in pyxis-RP3C147.conf and was also loaded when Pyxis was imported."
     ]
    },
    {
     "cell_type": "code",
     "collapsed": false,
     "input": [
      "# default MS and DDID\n",
      "MS_Template = '3C147_nobl_spw${ms.DDID}.MS'\n",
      "ms.DDID = 0\n",
      "# Note that the magic \"v\" object provides access to \"superglobal\" variables. Superglobals are propagated across\n",
      "# all modules. As a result of the above statement, there's now an identical MS and DDID variable set in every Pyxides \n",
      "# module (which in this case include 'cal', 'ms', 'imager' and 'mqt', the latter two imported by 'cal'), as well \n",
      "# as an MS and DDID variable here. Superglobals are handy, but overreliance on them can lead to namespace pollution \n",
      "# and confusion, so Pyxis uses them very sparingly, i.e. only for truly global things like MS, DDID, LSM, etc.\n",
      "# \n",
      "# Note also that if we say \"MS='dum'\" now, this will set a global MS variable within the context of this particular script,\n",
      "# but not the \"MS\" superglobal. This is another source of confusion, and another reason to assign superglobals sparingly.\n",
      "# Always assign superglobals with v.MS=, not MS=!!!"
     ],
     "language": "python",
     "metadata": {},
     "outputs": []
    },
    {
     "cell_type": "code",
     "collapsed": false,
     "input": [
      "# polarized images by default, and extract polarization info in pybdsm\n",
      "imager.stokes=\"IQUV\"\n",
      "lsm.PYBDSM_POLARIZED = True     "
     ],
     "language": "python",
     "metadata": {},
     "outputs": []
    },
    {
     "cell_type": "code",
     "collapsed": false,
     "input": [
      "imager.IMAGE_CHANNELIZE = 0        # 0 means make a single image for the whole band (1 makes a cube)"
     ],
     "language": "python",
     "metadata": {},
     "outputs": []
    },
    {
     "cell_type": "code",
     "collapsed": false,
     "input": [
      "## Some more globals in the imager module\n",
      "imager.ifrs=\"\"\n",
      "imager.mode=\"channel\"\n",
      "imager.weight=\"briggs\"\n",
      "imager.niter=10000\n",
      "imager.gain=.1\n",
      "imager.threshold=0"
     ],
     "language": "python",
     "metadata": {},
     "outputs": []
    },
    {
     "cell_type": "code",
     "collapsed": false,
     "input": [
      "# set up VLA D configuration parameters\n",
      "dconf()"
     ],
     "language": "python",
     "metadata": {},
     "outputs": []
    },
    {
     "cell_type": "code",
     "collapsed": false,
     "input": [
      "# Filenames for the LSM at various stages. \n",
      "# Variables ending in _Template are automatically be re-evaluated when e.g. DDID changes, \n",
      "# thus generating the actual LSM0, LSM1, LSM2 variables\n",
      "SUFFIX_Template = \"${-spw<ms.DDID}${-cb<CHBL}\"\n",
      "LSM0_Template = \"$LSMBASE.lsm.html\"\n",
      "LSM1_Template = \"$DESTDIR/$LSMBASE$SUFFIX+pybdsm.lsm.html\"\n",
      "LSM2_Template = \"$DESTDIR/$LSMBASE$SUFFIX+pybdsm+cc.lsm.html\"\n",
      "LSM3_Template = \"$DESTDIR/$LSMBASE$SUFFIX+pybdsm+cc.lsm.html\"\n",
      "LSM_CCMODEL_Template = \"$DESTDIR/$LSMBASE$SUFFIX+ccmodel.fits\"\n",
      "# this is a reference LSM from which we transfer dE tags\n",
      "LSMREF = \"3C147-refmodel.lsm.html\"\n",
      "\n",
      "LOG_Template = \"${OUTDIR>/}log-${MS:BASE}$SUFFIX.txt\"\n",
      "DESTDIR_Template = \"${OUTDIR>/}plots-${MS:BASE}$SUFFIX\"\n",
      "OUTFILE_Template = \"${DESTDIR>/}${MS:BASE}$SUFFIX${-s<STEP}${-<LABEL}\""
     ],
     "language": "python",
     "metadata": {},
     "outputs": []
    },
    {
     "cell_type": "code",
     "collapsed": false,
     "input": [
      "# smoothing interval for DE solutions\n",
      "DE_SMOOTHING = 18,16\n",
      "\n",
      "SEFD = 350  \n",
      "INTEGRATION = 0"
     ],
     "language": "python",
     "metadata": {},
     "outputs": []
    },
    {
     "cell_type": "heading",
     "level": 3,
     "metadata": {},
     "source": [
      "# 2. Pipeline procedures\n"
     ]
    },
    {
     "cell_type": "raw",
     "metadata": {},
     "source": [
      "General helper functions are saved in the pyxis-proc.py file and were loaded when Pyxis was imported. Here we keep functions that we expect to modify."
     ]
    },
    {
     "cell_type": "code",
     "collapsed": false,
     "input": [
      "def runcal (goto_step=1):\n",
      "  ## initial calibration\n",
      "  if goto_step > 1:\n",
      "    info(\"########## restarting calibration from step $goto_step\");\n",
      "  # Calibration step -- this is just a user-defined label used in filenames (etc. \"blahblah_s1\"), which serves to keep the output from each step\n",
      "  # of a pipeline separate. If this is numeric, then functions such as stefcal.stefcal() will increment it automatically first thing. Otherwise you can set\n",
      "  # it yourself to some more fancy label. Here we also provide a way to hop to  particular step via goto_step\n",
      "  v.STEP = goto_step-1;\n",
      "  \n",
      "  if goto_step < 2:\n",
      "    # set the superglobal LSM\n",
      "    v.LSM = LSM0\n",
      "    info(\"########## solving for G with initial LSM\");\n",
      "    # no w-proj for dirty map to save time\n",
      "    stefcal.stefcal(stefcal_reset_ifr_gains=True,dirty=dict(wprojplanes=0),restore=True);\n",
      "    info(\"########## running source finder and updating model\");\n",
      "    ## now run pybdsm on restored image, output LSM will be given by variable cal.PYBDSM_OUTPUT\n",
      "    lsm.pybdsm_search(threshold=7);\n",
      "    ### merge new sources into sky model, give it a new name ($LSM1)\n",
      "    lsm.tigger_convert(\"$LSM -a ${lsm.PYBDSM_OUTPUT} $LSM1 --rename -f\");\n",
      "  \n",
      "  if goto_step < 3:\n",
      "    info(\"########## solving for G with updated LSM (initial+pybdsm)\");\n",
      "    v.LSM = LSM1\n",
      "    stefcal.stefcal(dirty=dict(wprojplanes=0));\n",
      "    \n",
      "  if goto_step < 4:\n",
      "    info(\"########## re-solving for G to apply IFR solutions\");\n",
      "    stefcal.stefcal(dirty=dict(wprojplanes=0),restore=True);\n",
      "    \n",
      "    info(\"########## adding clean components to LSM\");\n",
      "    CCMODEL = II(\"ccmodel-ddid${ms.DDID}.fits\");  # note the per-style variable interpolation done by the II() function\n",
      "    ff = pyfits.open(imager.MODEL_IMAGE);\n",
      "    dd = ff[0].data;\n",
      "    dd *= 1.0769     # scale up to compensate for selfcal flux suppression\n",
      "    # dd[dd<0] = 0;  # remove negative components\n",
      "    ff.writeto(CCMODEL,clobber=True);\n",
      "    # add model image to LSM\n",
      "    lsm.tigger_convert(\"$LSM $LSM2 --add-brick=ccmodel:$CCMODEL:2 -f\");\n",
      "\n",
      "  if goto_step < 5:          \n",
      "    info(\"########## solving for G with updated LSM (inital+pybdsm+cc)\");\n",
      "    v.LSM = LSM2\n",
      "    stefcal.stefcal(dirty=dict(wprojplanes=0));\n",
      "    \n",
      "  if goto_step < 6:\n",
      "    info(\"########## running DD solutions\");\n",
      "    v.LSM = LSM2\n",
      "    # now, set dE tags on sources\n",
      "    lsm.transfer_tags(LSMREF,LSM,tags=\"dE\",tolerance=45*ARCSEC);\n",
      "  \n",
      "    # make final image\n",
      "    stefcal.stefcal(dirty=dict(wprojplanes=0),diffgains=True,restore=True,label=\"dE\"); "
     ],
     "language": "python",
     "metadata": {},
     "outputs": []
    },
    {
     "cell_type": "raw",
     "metadata": {},
     "source": [
      "Set up functions for running each pipeline step"
     ]
    },
    {
     "cell_type": "code",
     "collapsed": false,
     "input": [
      "def jointcal (goto_step=1,last_step=10,lsmbase=None,STEPS=None):\n",
      "  \"\"\"Calibration for joint C and D-config data\"\"\"\n",
      "  info(\">>>>>>>>>>>>> output directory is $OUTDIR. Please set OUTDIR explicitly to override\");\n",
      "\n",
      "  # setup LSM filenames based on the full MS\n",
      "  # note that these get interpolated once and for all here (and the _Template definitions above\n",
      "  # get cancelled due to the explicit assignment here). The reason for doing it like this\n",
      "  # is because I don't want these names to be changing due to the templates every time the \n",
      "  # MS changes in a per(MS) call.\n",
      "  v.FULLMS = MS\n",
      "  LSM1 = II(\"$DESTDIR/$LSMBASE$SUFFIX+pybdsm.lsm.html\");\n",
      "  LSM2 = II(\"$DESTDIR/$LSMBASE$SUFFIX+pybdsm2.lsm.html\");\n",
      "  LSM3 = II(\"$DESTDIR/$LSMBASE$SUFFIX+pybdsm2+cc.lsm.html\");\n",
      "  LSM_CCMODEL = II(\"$DESTDIR/$LSMBASE$SUFFIX+ccmodel.fits\");\n",
      "  saveconf()\n",
      "\n",
      "  stefcal.STEFCAL_DIFFGAIN_SMOOTHING = DE_SMOOTHING;\n",
      "\n",
      "  # make MS list from sub-MSs\n",
      "  import glob\n",
      "  v.MS_List = glob.glob(MS+\"/SUBMSS/*MS\");\n",
      "  info(\"MS list is $MS_List\");\n",
      "  if not MS_List:\n",
      "    abort(\"No sub-MSs found\");\n",
      "  \n",
      "  imager.npix = NPIX = 4096\n",
      "  imager.cellsize = \"2arcsec\"\n",
      "  imager.wprojplanes = 128\n",
      "  imager.CLEAN_ALGORITHM = \"csclean\"\n",
      "  v.LSMREF = \"${MS:BASE}.refmodel.lsm.html\"\n",
      "  THRESH_PIX,THRESH_ISL = (50,10),(15,5)\n",
      "  CLEAN_THRESH = \".4mJy\",\".1mJy\",\".05mJy\"\n",
      "  stefcal.STEFCAL_STEP_INCR = 0 # precvent stefcal from auto-incrementing v.STEP: we set the step counter explicitly here\n",
      "  \n",
      "  if STEPS is None:\n",
      "    STEPS = list(numpy.arange(goto_step,last_step+.1,.5));\n",
      "  STEPS = map(float,STEPS);\n",
      "\n",
      "  if STEPS[0] != 1:\n",
      "    info(\"########## restarting calibration from step %.1f\"%STEPS[0]);\n",
      "\n",
      "  if lsmbase:\n",
      "    LSMBASE = lsmbase;\n",
      "\n",
      "  ## initial calibration\n",
      "  \n",
      "  if 1. in STEPS:\n",
      "    info(\"########## step 1: solving for G with initial LSM\");\n",
      "    v.LSM,v.STEP = LSM0,1\n",
      "    per_ms(jointcal_g1);\n",
      "    \n",
      "  if 1.5 in STEPS:\n",
      "    info(\"########## step 1.5: making joint image\");\n",
      "    v.LSM,v.STEP = LSM0,1\n",
      "    v.MS = FULLMS\n",
      "    # initial model is total flux only, made from a 2x size image to catch distant sources\n",
      "    imager.make_image(dirty=False,stokes=\"I\",restore=dict(npix=NPIX*2,threshold=CLEAN_THRESH[0],wprojplanes=128),restore_lsm=False);\n",
      "    info(\"########## running source finder and updating model\");\n",
      "    # now run pybdsm on restored image, output LSM will be given by variable cal.PYBDSM_OUTPUT\n",
      "    ## NB: select on radius to exclude any artefacts picked up around 3C147 itself\n",
      "    lsm.pybdsm_search(thresh_pix=THRESH_PIX[0],thresh_isl=THRESH_ISL[0],select=\"r.gt.30s\",pol=False);\n",
      "    ## merge new sources into sky model, give it a new name ($LSM1)\n",
      "    lsm.tigger_convert(\"$LSM -a ${lsm.PYBDSM_OUTPUT} $LSM1 --rename -f\");\n",
      "\n",
      "  if 2. in STEPS:\n",
      "    info(\"########## step 2: initial dE solution\");\n",
      "    v.LSM,v.STEP = LSM1,2\n",
      "    v.MS = FULLMS  \n",
      "    # now, set dE tags on sources\n",
      "    lsm.transfer_tags(LSMREF,LSM,tags=\"dE\",tolerance=45*ARCSEC);\n",
      "    per_ms(jointcal_de_reset);\n",
      "\n",
      "  if 3. in STEPS:\n",
      "    info(\"########## step 3: re-solving for G to apply IFR solutions\");\n",
      "    v.LSM,v.STEP = LSM1,3\n",
      "    v.MS = FULLMS\n",
      "    per_ms(jointcal_de_apply);\n",
      "    info(\"########## running source finder and updating model\");\n",
      "    v.MS = FULLMS\n",
      "    imager.make_image(dirty=False,stokes=\"IQ\",restore=dict(npix=NPIX,threshold=CLEAN_THRESH[1],wprojplanes=128),restore_lsm=False);\n",
      "    ## now run pybdsm on restored image, output LSM will be given by variable cal.PYBDSM_OUTPUT\n",
      "    ### NB: select on radius to exclude any artefacts picked up around 3C147 itself\n",
      "    lsm.pybdsm_search(thresh_pix=THRESH_PIX[1],thresh_isl=THRESH_ISL[1],select=\"r.gt.30s\");\n",
      "    ### merge new sources into sky model, give it a new name ($LSM1)\n",
      "    lsm.tigger_convert(\"$LSM -a ${lsm.PYBDSM_OUTPUT} $LSM2 --rename -f\");\n",
      "\n",
      "  if 4. in STEPS:\n",
      "    info(\"########## step 4: solving for G+dE with updated LSM (initial+pybdsm^2)\");\n",
      "    v.MS = FULLMS\n",
      "    v.LSM,v.STEP = LSM2,4\n",
      "    lsm.transfer_tags(LSMREF,LSM,tags=\"dE\",tolerance=45*ARCSEC);\n",
      "    per_ms(jointcal_de);\n",
      "    v.MS = FULLMS\n",
      "    imager.make_image(dirty=False,stokes=\"IQ\",restore=dict(npix=NPIX,threshold=CLEAN_THRESH[1],wprojplanes=128),restore_lsm=False);\n",
      "    info(\"########## adding clean components to LSM\");\n",
      "    ff = pyfits.open(imager.MODEL_IMAGE);\n",
      "    dd = ff[0].data;\n",
      "    dd *= 1.0769     # scale up to compensate for selfcal flux suppression\n",
      "    # dd[dd<0] = 0;  # remove negative components\n",
      "    ff.writeto(LSM_CCMODEL,clobber=True);\n",
      "    # add model image to LSM\n",
      "    lsm.tigger_convert(\"$LSM $LSM3 --add-brick=ccmodel:$LSM_CCMODEL:2 -f\");\n",
      "\n",
      "  if 5. in STEPS:\n",
      "    info(\"########## step 5: re-running DD solutions\");\n",
      "    v.MS = FULLMS\n",
      "    v.LSM,v.STEP = LSM3,5\n",
      "    per_ms(jointcal_de_final);\n",
      "    \n",
      "  if 5.5 in STEPS:\n",
      "    info(\"########## step 5.5: making joint image\");\n",
      "    v.MS = FULLMS\n",
      "    v.LSM,v.STEP = LSM3,5\n",
      "    imager.make_image(dirty=False,stokes=\"IQUV\",restore=dict(npix=NPIX,threshold=CLEAN_THRESH[2],wprojplanes=128),restore_lsm=True);\n",
      "    \n",
      "  if 6. in STEPS:\n",
      "    info(\"########## step 6: noise sim\");\n",
      "    per_ms(lambda:makecube(stokes=\"IQUV\"));\n",
      "    v.LSM,v.STEP = LSM3,5\n",
      "    v.MS = FULLMS;\n",
      "    makecube(stokes=\"IQUV\");\n",
      "    makenoise();"
     ],
     "language": "python",
     "metadata": {},
     "outputs": []
    },
    {
     "cell_type": "code",
     "collapsed": false,
     "input": [
      "def jointcal_g ():\n",
      "  stefcal.stefcal(stefcal_reset_all=True,dirty=dict(wprojplanes=0,npix=NPIX),restore=False);\n",
      "\n",
      "def jointcal_g1 ():\n",
      "  stefcal.stefcal(stefcal_reset_all=True,dirty=dict(wprojplanes=0,npix=NPIX),restore=False,output=\"CORR_DATA\");\n",
      "  \n",
      "def jointcal_de_reset ():\n",
      "  stefcal.stefcal(stefcal_reset_all=True,diffgains=True,dirty=dict(wprojplanes=0,npix=NPIX),restore=False);\n",
      "    \n",
      "def jointcal_de_apply ():\n",
      "  stefcal.stefcal(diffgains=True,diffgain_apply_only=True,\n",
      "    dirty=dict(wprojplanes=0,npix=NPIX),restore=False);\n",
      "\n",
      "def jointcal_de ():\n",
      "  stefcal.stefcal(diffgains=True,dirty=dict(wprojplanes=0,npix=NPIX),restore=False);\n",
      "\n",
      "def jointcal_de_final ():\n",
      "  stefcal.stefcal(diffgains=True,dirty=dict(wprojplanes=0,npix=NPIX),restore=False); # ,options=dict(stefcal_diagonal_ifr_gains='full'))  "
     ],
     "language": "python",
     "metadata": {},
     "outputs": []
    },
    {
     "cell_type": "heading",
     "level": 3,
     "metadata": {},
     "source": [
      "#3 Run the recipe"
     ]
    },
    {
     "cell_type": "code",
     "collapsed": false,
     "input": [
      "# label and open appropriate MS\n",
      "visMS='3C147-CD-LO.MS'\n",
      "v.MS = visMS\n",
      "\n",
      "# set OUTDIR explicitly if desired\n",
      "#v.OUTDIR = 'reduction-07Apr14'"
     ],
     "language": "python",
     "metadata": {},
     "outputs": []
    },
    {
     "cell_type": "code",
     "collapsed": false,
     "input": [
      "%%time\n",
      "jstep = 1\n",
      "jointcal(STEPS=[jstep])\n",
      "print '\\nFinished jointcal step: ', jstep"
     ],
     "language": "python",
     "metadata": {},
     "outputs": []
    },
    {
     "cell_type": "code",
     "collapsed": false,
     "input": [
      "nbplot.listSol()"
     ],
     "language": "python",
     "metadata": {},
     "outputs": []
    },
    {
     "cell_type": "code",
     "collapsed": false,
     "input": [
      "nbplot.plotGains()"
     ],
     "language": "python",
     "metadata": {},
     "outputs": []
    },
    {
     "cell_type": "code",
     "collapsed": false,
     "input": [
      "%%time\n",
      "jstep = 1.5\n",
      "jointcal(STEPS=[jstep])\n",
      "print '\\nFinished jointcal step: ', jstep"
     ],
     "language": "python",
     "metadata": {},
     "outputs": []
    },
    {
     "cell_type": "code",
     "collapsed": false,
     "input": [
      "nbplot.imagelocation(['MODEL_IMAGE','RESTORED_IMAGE','RESIDUAL_IMAGE'])\n",
      "nbplot.plotFits(['MODEL_IMAGE','RESTORED_IMAGE','RESIDUAL_IMAGE'],df='95') #,nbmode='tigger')"
     ],
     "language": "python",
     "metadata": {},
     "outputs": []
    },
    {
     "cell_type": "code",
     "collapsed": false,
     "input": [
      "%%time\n",
      "jstep = 2\n",
      "jointcal(STEPS=[jstep])\n",
      "print '\\nFinished jointcal step: ', jstep"
     ],
     "language": "python",
     "metadata": {},
     "outputs": []
    },
    {
     "cell_type": "code",
     "collapsed": false,
     "input": [
      "nbplot.listSol()"
     ],
     "language": "python",
     "metadata": {},
     "outputs": []
    },
    {
     "cell_type": "code",
     "collapsed": false,
     "input": [
      "nbplot.plotGains()"
     ],
     "language": "python",
     "metadata": {},
     "outputs": []
    },
    {
     "cell_type": "code",
     "collapsed": false,
     "input": [
      "nbplot.plotGains(ants='5,7')"
     ],
     "language": "python",
     "metadata": {},
     "outputs": []
    },
    {
     "cell_type": "code",
     "collapsed": false,
     "input": [
      "%%time\n",
      "jstep = 3\n",
      "jointcal(STEPS=[jstep])\n",
      "print '\\nFinished jointcal step: ', jstep"
     ],
     "language": "python",
     "metadata": {},
     "outputs": []
    },
    {
     "cell_type": "code",
     "collapsed": false,
     "input": [
      "nbplot.imagelocation(['MODEL_IMAGE','RESTORED_IMAGE','RESIDUAL_IMAGE'])\n",
      "nbplot.plotFits(['MODEL_IMAGE','RESTORED_IMAGE','RESIDUAL_IMAGE'],df='99.99') #,nbmode='tigger')"
     ],
     "language": "python",
     "metadata": {},
     "outputs": []
    },
    {
     "cell_type": "code",
     "collapsed": false,
     "input": [
      "%%time\n",
      "jstep = 4\n",
      "jointcal(STEPS=[jstep])\n",
      "print '\\nFinished jointcal step: ', jstep"
     ],
     "language": "python",
     "metadata": {},
     "outputs": []
    },
    {
     "cell_type": "code",
     "collapsed": false,
     "input": [
      "nbplot.listSol()"
     ],
     "language": "python",
     "metadata": {},
     "outputs": []
    },
    {
     "cell_type": "code",
     "collapsed": false,
     "input": [
      "nbplot.plotGains(ants='20,21',pols='0',soltype='diffgain')"
     ],
     "language": "python",
     "metadata": {},
     "outputs": []
    },
    {
     "cell_type": "code",
     "collapsed": false,
     "input": [
      "nbplot.plotGains(ants='20,21',pols='0,1,2,3',soltype='gain')"
     ],
     "language": "python",
     "metadata": {},
     "outputs": []
    },
    {
     "cell_type": "code",
     "collapsed": false,
     "input": [
      "nbplot.imagelocation(['MODEL_IMAGE','RESTORED_IMAGE','RESIDUAL_IMAGE'])\n",
      "nbplot.plotFits(['MODEL_IMAGE','RESTORED_IMAGE','RESIDUAL_IMAGE'],df='99.99')"
     ],
     "language": "python",
     "metadata": {},
     "outputs": []
    },
    {
     "cell_type": "code",
     "collapsed": false,
     "input": [
      "%%time\n",
      "jstep = 5\n",
      "jointcal(STEPS=[jstep])\n",
      "print '\\nFinished jointcal step: ', jstep"
     ],
     "language": "python",
     "metadata": {},
     "outputs": []
    },
    {
     "cell_type": "code",
     "collapsed": false,
     "input": [
      "nbplot.listSol()"
     ],
     "language": "python",
     "metadata": {},
     "outputs": []
    },
    {
     "cell_type": "code",
     "collapsed": false,
     "input": [
      "nbplot.plotGains()"
     ],
     "language": "python",
     "metadata": {},
     "outputs": []
    },
    {
     "cell_type": "code",
     "collapsed": false,
     "input": [
      "%%time\n",
      "jstep = 5.5\n",
      "jointcal(STEPS=[jstep])\n",
      "print '\\nFinished jointcal step: ', jstep"
     ],
     "language": "python",
     "metadata": {},
     "outputs": []
    },
    {
     "cell_type": "code",
     "collapsed": false,
     "input": [
      "nbplot.imagelocation(['MODEL_IMAGE','RESTORED_IMAGE','RESIDUAL_IMAGE'])\n",
      "nbplot.plotFits(['MODEL_IMAGE','RESTORED_IMAGE','RESIDUAL_IMAGE'],df='99.99')"
     ],
     "language": "python",
     "metadata": {},
     "outputs": []
    },
    {
     "cell_type": "code",
     "collapsed": false,
     "input": [
      "%%time\n",
      "jstep = 6\n",
      "jointcal(STEPS=[jstep])\n",
      "print '\\nFinished jointcal step: ', jstep"
     ],
     "language": "python",
     "metadata": {},
     "outputs": []
    },
    {
     "cell_type": "code",
     "collapsed": false,
     "input": [
      "nbplot.imagelocation(['MODEL_IMAGE','RESTORED_IMAGE','RESIDUAL_IMAGE'])\n",
      "nbplot.plotFits(['MODEL_IMAGE','RESTORED_IMAGE','RESIDUAL_IMAGE'],df='99.99')"
     ],
     "language": "python",
     "metadata": {},
     "outputs": []
    }
   ],
   "metadata": {}
  }
 ]
}